{
 "cells": [
  {
   "cell_type": "code",
   "execution_count": 1,
   "id": "0a1eb1c9",
   "metadata": {},
   "outputs": [],
   "source": [
    "import pandas as pd\n",
    "import tensorflow as tf\n",
    "import numpy as np\n",
    "import seaborn as sns\n",
    "import matplotlib.pyplot as plt\n",
    "from IPython.display import clear_output"
   ]
  },
  {
   "cell_type": "code",
   "execution_count": 8,
   "id": "6fc8a720",
   "metadata": {},
   "outputs": [],
   "source": [
    "col_list = ['case_month', 'res_state', 'state_fips_code', 'res_county', 'county_fips_code',\n",
    "           'age_group', 'sex', 'race', 'ethnicity', 'case_positive_specimen_interval', \n",
    "           'case_onset_interval', 'process', 'exposure_yn', 'current_status', 'symptom_status',\n",
    "           'hosp_yn', 'icu_yn','death_yn', 'underlying_conditions_yn']\n",
    "dtyp = {'case_positive_specimen_interval':np.int64, 'case_onset_interval':np.int64, 'case_month':str, 'res_state':str, 'state_fips_code':str, 'res_county':str, 'county_fips_code':str,\n",
    "       'age_group':str, 'sex':str, 'race':str, 'ethnicity':str, 'process':str, 'exposure_yn':str, 'current_status':str, 'symptom_status':str,\n",
    "       'hosp_yn':str,'icu_yn':str, 'death_yn':str,'underlying_conditions_yn':str}\n",
    "cdc = pd.read_csv('cdcCleaned.csv', names=col_list, dtype=dtyp, header=1)"
   ]
  },
  {
   "cell_type": "code",
   "execution_count": 9,
   "id": "65137489",
   "metadata": {},
   "outputs": [
    {
     "data": {
      "text/html": [
       "<div>\n",
       "<style scoped>\n",
       "    .dataframe tbody tr th:only-of-type {\n",
       "        vertical-align: middle;\n",
       "    }\n",
       "\n",
       "    .dataframe tbody tr th {\n",
       "        vertical-align: top;\n",
       "    }\n",
       "\n",
       "    .dataframe thead th {\n",
       "        text-align: right;\n",
       "    }\n",
       "</style>\n",
       "<table border=\"1\" class=\"dataframe\">\n",
       "  <thead>\n",
       "    <tr style=\"text-align: right;\">\n",
       "      <th></th>\n",
       "      <th>case_month</th>\n",
       "      <th>res_state</th>\n",
       "      <th>state_fips_code</th>\n",
       "      <th>res_county</th>\n",
       "      <th>county_fips_code</th>\n",
       "      <th>age_group</th>\n",
       "      <th>sex</th>\n",
       "      <th>race</th>\n",
       "      <th>ethnicity</th>\n",
       "      <th>case_positive_specimen_interval</th>\n",
       "      <th>case_onset_interval</th>\n",
       "      <th>process</th>\n",
       "      <th>exposure_yn</th>\n",
       "      <th>current_status</th>\n",
       "      <th>symptom_status</th>\n",
       "      <th>hosp_yn</th>\n",
       "      <th>icu_yn</th>\n",
       "      <th>death_yn</th>\n",
       "      <th>underlying_conditions_yn</th>\n",
       "    </tr>\n",
       "  </thead>\n",
       "  <tbody>\n",
       "    <tr>\n",
       "      <th>1</th>\n",
       "      <td>2020-08</td>\n",
       "      <td>KS</td>\n",
       "      <td>20</td>\n",
       "      <td>CRAWFORD</td>\n",
       "      <td>20037</td>\n",
       "      <td>18 to 49 years</td>\n",
       "      <td>Male</td>\n",
       "      <td>White</td>\n",
       "      <td>Non-Hispanic/Latino</td>\n",
       "      <td>0</td>\n",
       "      <td>0</td>\n",
       "      <td>Laboratory reported</td>\n",
       "      <td>Yes</td>\n",
       "      <td>Laboratory-confirmed case</td>\n",
       "      <td>Symptomatic</td>\n",
       "      <td>No</td>\n",
       "      <td>No</td>\n",
       "      <td>0</td>\n",
       "      <td>No</td>\n",
       "    </tr>\n",
       "    <tr>\n",
       "      <th>2</th>\n",
       "      <td>2021-01</td>\n",
       "      <td>NV</td>\n",
       "      <td>32</td>\n",
       "      <td>CLARK</td>\n",
       "      <td>32003</td>\n",
       "      <td>18 to 49 years</td>\n",
       "      <td>Male</td>\n",
       "      <td>Black</td>\n",
       "      <td>Non-Hispanic/Latino</td>\n",
       "      <td>0</td>\n",
       "      <td>0</td>\n",
       "      <td>Multiple</td>\n",
       "      <td>Yes</td>\n",
       "      <td>Laboratory-confirmed case</td>\n",
       "      <td>Symptomatic</td>\n",
       "      <td>No</td>\n",
       "      <td>No</td>\n",
       "      <td>0</td>\n",
       "      <td>Yes</td>\n",
       "    </tr>\n",
       "    <tr>\n",
       "      <th>3</th>\n",
       "      <td>2020-04</td>\n",
       "      <td>IA</td>\n",
       "      <td>19</td>\n",
       "      <td>WOODBURY</td>\n",
       "      <td>19193</td>\n",
       "      <td>50 to 64 years</td>\n",
       "      <td>Female</td>\n",
       "      <td>White</td>\n",
       "      <td>Hispanic/Latino</td>\n",
       "      <td>0</td>\n",
       "      <td>0</td>\n",
       "      <td>Clinical evaluation</td>\n",
       "      <td>Yes</td>\n",
       "      <td>Laboratory-confirmed case</td>\n",
       "      <td>Symptomatic</td>\n",
       "      <td>No</td>\n",
       "      <td>No</td>\n",
       "      <td>0</td>\n",
       "      <td>Yes</td>\n",
       "    </tr>\n",
       "    <tr>\n",
       "      <th>4</th>\n",
       "      <td>2020-08</td>\n",
       "      <td>KS</td>\n",
       "      <td>20</td>\n",
       "      <td>CRAWFORD</td>\n",
       "      <td>20037</td>\n",
       "      <td>18 to 49 years</td>\n",
       "      <td>Male</td>\n",
       "      <td>White</td>\n",
       "      <td>Non-Hispanic/Latino</td>\n",
       "      <td>0</td>\n",
       "      <td>0</td>\n",
       "      <td>Clinical evaluation</td>\n",
       "      <td>Yes</td>\n",
       "      <td>Probable Case</td>\n",
       "      <td>Symptomatic</td>\n",
       "      <td>No</td>\n",
       "      <td>No</td>\n",
       "      <td>0</td>\n",
       "      <td>No</td>\n",
       "    </tr>\n",
       "    <tr>\n",
       "      <th>5</th>\n",
       "      <td>2021-09</td>\n",
       "      <td>OH</td>\n",
       "      <td>39</td>\n",
       "      <td>JEFFERSON</td>\n",
       "      <td>39081</td>\n",
       "      <td>18 to 49 years</td>\n",
       "      <td>Female</td>\n",
       "      <td>White</td>\n",
       "      <td>Non-Hispanic/Latino</td>\n",
       "      <td>0</td>\n",
       "      <td>0</td>\n",
       "      <td>Clinical evaluation</td>\n",
       "      <td>Yes</td>\n",
       "      <td>Laboratory-confirmed case</td>\n",
       "      <td>Symptomatic</td>\n",
       "      <td>No</td>\n",
       "      <td>No</td>\n",
       "      <td>0</td>\n",
       "      <td>Yes</td>\n",
       "    </tr>\n",
       "  </tbody>\n",
       "</table>\n",
       "</div>"
      ],
      "text/plain": [
       "  case_month res_state state_fips_code res_county county_fips_code  \\\n",
       "1    2020-08        KS              20   CRAWFORD            20037   \n",
       "2    2021-01        NV              32      CLARK            32003   \n",
       "3    2020-04        IA              19   WOODBURY            19193   \n",
       "4    2020-08        KS              20   CRAWFORD            20037   \n",
       "5    2021-09        OH              39  JEFFERSON            39081   \n",
       "\n",
       "        age_group     sex   race            ethnicity  \\\n",
       "1  18 to 49 years    Male  White  Non-Hispanic/Latino   \n",
       "2  18 to 49 years    Male  Black  Non-Hispanic/Latino   \n",
       "3  50 to 64 years  Female  White      Hispanic/Latino   \n",
       "4  18 to 49 years    Male  White  Non-Hispanic/Latino   \n",
       "5  18 to 49 years  Female  White  Non-Hispanic/Latino   \n",
       "\n",
       "   case_positive_specimen_interval  case_onset_interval              process  \\\n",
       "1                                0                    0  Laboratory reported   \n",
       "2                                0                    0             Multiple   \n",
       "3                                0                    0  Clinical evaluation   \n",
       "4                                0                    0  Clinical evaluation   \n",
       "5                                0                    0  Clinical evaluation   \n",
       "\n",
       "  exposure_yn             current_status symptom_status hosp_yn icu_yn  \\\n",
       "1         Yes  Laboratory-confirmed case    Symptomatic      No     No   \n",
       "2         Yes  Laboratory-confirmed case    Symptomatic      No     No   \n",
       "3         Yes  Laboratory-confirmed case    Symptomatic      No     No   \n",
       "4         Yes              Probable Case    Symptomatic      No     No   \n",
       "5         Yes  Laboratory-confirmed case    Symptomatic      No     No   \n",
       "\n",
       "  death_yn underlying_conditions_yn  \n",
       "1        0                       No  \n",
       "2        0                      Yes  \n",
       "3        0                      Yes  \n",
       "4        0                       No  \n",
       "5        0                      Yes  "
      ]
     },
     "execution_count": 9,
     "metadata": {},
     "output_type": "execute_result"
    }
   ],
   "source": [
    "cdc.head()"
   ]
  },
  {
   "cell_type": "code",
   "execution_count": 10,
   "id": "618c3a53",
   "metadata": {},
   "outputs": [
    {
     "name": "stdout",
     "output_type": "stream",
     "text": [
      "<class 'pandas.core.frame.DataFrame'>\n",
      "Int64Index: 80914 entries, 1 to 80914\n",
      "Data columns (total 19 columns):\n",
      " #   Column                           Non-Null Count  Dtype \n",
      "---  ------                           --------------  ----- \n",
      " 0   case_month                       80914 non-null  object\n",
      " 1   res_state                        80914 non-null  object\n",
      " 2   state_fips_code                  80914 non-null  object\n",
      " 3   res_county                       80914 non-null  object\n",
      " 4   county_fips_code                 80914 non-null  object\n",
      " 5   age_group                        80914 non-null  object\n",
      " 6   sex                              80914 non-null  object\n",
      " 7   race                             80914 non-null  object\n",
      " 8   ethnicity                        80914 non-null  object\n",
      " 9   case_positive_specimen_interval  80914 non-null  int64 \n",
      " 10  case_onset_interval              80914 non-null  int64 \n",
      " 11  process                          80914 non-null  object\n",
      " 12  exposure_yn                      80914 non-null  object\n",
      " 13  current_status                   80914 non-null  object\n",
      " 14  symptom_status                   80914 non-null  object\n",
      " 15  hosp_yn                          80914 non-null  object\n",
      " 16  icu_yn                           80914 non-null  object\n",
      " 17  death_yn                         80914 non-null  object\n",
      " 18  underlying_conditions_yn         80914 non-null  object\n",
      "dtypes: int64(2), object(17)\n",
      "memory usage: 12.3+ MB\n"
     ]
    }
   ],
   "source": [
    "cdc.info()"
   ]
  },
  {
   "cell_type": "code",
   "execution_count": 11,
   "id": "5ad87534",
   "metadata": {},
   "outputs": [
    {
     "data": {
      "text/plain": [
       "Series([], dtype: float64)"
      ]
     },
     "execution_count": 11,
     "metadata": {},
     "output_type": "execute_result"
    }
   ],
   "source": [
    "missing_percentages = (cdc.isna().sum().sort_values(ascending = False) / len(cdc) * 100)\n",
    "filtered_missing_percentages = missing_percentages[missing_percentages != 0]\n",
    "filtered_missing_percentages"
   ]
  },
  {
   "cell_type": "code",
   "execution_count": 12,
   "id": "f48ae8e5",
   "metadata": {},
   "outputs": [
    {
     "data": {
      "text/plain": [
       "Female    46161\n",
       "Male      34753\n",
       "Name: sex, dtype: int64"
      ]
     },
     "execution_count": 12,
     "metadata": {},
     "output_type": "execute_result"
    }
   ],
   "source": [
    "cdc['sex'].value_counts()"
   ]
  },
  {
   "cell_type": "code",
   "execution_count": 13,
   "id": "e35f4093",
   "metadata": {},
   "outputs": [
    {
     "data": {
      "text/plain": [
       "<AxesSubplot:>"
      ]
     },
     "execution_count": 13,
     "metadata": {},
     "output_type": "execute_result"
    },
    {
     "data": {
      "image/png": "[encoded data removed]",
      "text/plain": [
       "<Figure size 432x288 with 1 Axes>"
      ]
     },
     "metadata": {
      "needs_background": "light"
     },
     "output_type": "display_data"
    }
   ],
   "source": [
    "cdc['age_group'].value_counts().plot(kind='barh')"
   ]
  },
  {
   "cell_type": "code",
   "execution_count": 14,
   "id": "0df49878",
   "metadata": {},
   "outputs": [
    {
     "data": {
      "text/plain": [
       "<AxesSubplot:>"
      ]
     },
     "execution_count": 14,
     "metadata": {},
     "output_type": "execute_result"
    },
    {
     "data": {
      "image/png": "[encoded data removed]",
      "text/plain": [
       "<Figure size 432x288 with 1 Axes>"
      ]
     },
     "metadata": {
      "needs_background": "light"
     },
     "output_type": "display_data"
    }
   ],
   "source": [
    "cdc['sex'].value_counts().plot(kind='barh')"
   ]
  },
  {
   "cell_type": "code",
   "execution_count": 15,
   "id": "dcdd54b7",
   "metadata": {},
   "outputs": [
    {
     "data": {
      "text/plain": [
       "Index(['case_month', 'res_state', 'state_fips_code', 'res_county',\n",
       "       'county_fips_code', 'age_group', 'sex', 'race', 'ethnicity',\n",
       "       'case_positive_specimen_interval', 'case_onset_interval', 'process',\n",
       "       'exposure_yn', 'current_status', 'symptom_status', 'hosp_yn', 'icu_yn',\n",
       "       'death_yn', 'underlying_conditions_yn'],\n",
       "      dtype='object')"
      ]
     },
     "execution_count": 15,
     "metadata": {},
     "output_type": "execute_result"
    }
   ],
   "source": [
    "cdc.columns"
   ]
  },
  {
   "cell_type": "code",
   "execution_count": 16,
   "id": "04b668b9",
   "metadata": {},
   "outputs": [
    {
     "data": {
      "image/png": "[encoded data removed]",
      "text/plain": [
       "<Figure size 432x288 with 1 Axes>"
      ]
     },
     "metadata": {
      "needs_background": "light"
     },
     "output_type": "display_data"
    }
   ],
   "source": [
    "state = cdc['res_state'].value_counts()\n",
    "top_20_states = state[:20].plot(kind='barh')"
   ]
  },
  {
   "cell_type": "code",
   "execution_count": 17,
   "id": "d0fe4f95",
   "metadata": {},
   "outputs": [
    {
     "data": {
      "text/plain": [
       "<AxesSubplot:xlabel='res_state', ylabel='Percent'>"
      ]
     },
     "execution_count": 17,
     "metadata": {},
     "output_type": "execute_result"
    },
    {
     "data": {
      "image/png": "[encoded data removed]",
      "text/plain": [
       "<Figure size 432x288 with 1 Axes>"
      ]
     },
     "metadata": {
      "needs_background": "light"
     },
     "output_type": "display_data"
    }
   ],
   "source": [
    "sns.histplot(state, stat='percent')"
   ]
  },
  {
   "cell_type": "code",
   "execution_count": 19,
   "id": "1c54ab47",
   "metadata": {},
   "outputs": [
    {
     "data": {
      "text/plain": [
       "4603"
      ]
     },
     "execution_count": 19,
     "metadata": {},
     "output_type": "execute_result"
    }
   ],
   "source": [
    "parsed_dates = pd.to_datetime(cdc['case_month'])\n",
    "in2020 = cdc[parsed_dates.dt.year == 2020]\n",
    "\n",
    "plotting = len(cdc[(parsed_dates.dt.month == 1) & (parsed_dates.dt.year == 2021)])\n",
    "plotting"
   ]
  },
  {
   "cell_type": "code",
   "execution_count": 30,
   "id": "57d590af",
   "metadata": {},
   "outputs": [
    {
     "data": {
      "text/plain": [
       "1         8\n",
       "2         1\n",
       "3         4\n",
       "4         8\n",
       "5         9\n",
       "         ..\n",
       "80910    10\n",
       "80911     2\n",
       "80912    10\n",
       "80913     8\n",
       "80914     4\n",
       "Name: case_month, Length: 80914, dtype: int64"
      ]
     },
     "execution_count": 30,
     "metadata": {},
     "output_type": "execute_result"
    }
   ],
   "source": [
    "parsed_dates.dt.month"
   ]
  },
  {
   "cell_type": "code",
   "execution_count": 23,
   "id": "213cc4c8",
   "metadata": {
    "scrolled": true
   },
   "outputs": [
    {
     "data": {
      "text/plain": [
       "1       2020-08-01\n",
       "2       2021-01-01\n",
       "3       2020-04-01\n",
       "4       2020-08-01\n",
       "5       2021-09-01\n",
       "           ...    \n",
       "80910   2020-10-01\n",
       "80911   2021-02-01\n",
       "80912   2020-10-01\n",
       "80913   2020-08-01\n",
       "80914   2020-04-01\n",
       "Name: case_month, Length: 80914, dtype: datetime64[ns]"
      ]
     },
     "execution_count": 23,
     "metadata": {},
     "output_type": "execute_result"
    }
   ],
   "source": [
    "parsed_dates"
   ]
  },
  {
   "cell_type": "code",
   "execution_count": 31,
   "id": "6e1d9948",
   "metadata": {},
   "outputs": [
    {
     "data": {
      "text/plain": [
       "1        2020-08\n",
       "2        2021-01\n",
       "3        2020-04\n",
       "4        2020-08\n",
       "5        2021-09\n",
       "          ...   \n",
       "80910    2020-10\n",
       "80911    2021-02\n",
       "80912    2020-10\n",
       "80913    2020-08\n",
       "80914    2020-04\n",
       "Name: case_month, Length: 80914, dtype: object"
      ]
     },
     "execution_count": 31,
     "metadata": {},
     "output_type": "execute_result"
    }
   ],
   "source": [
    "cdc.case_month"
   ]
  },
  {
   "cell_type": "code",
   "execution_count": 33,
   "id": "dfad929d",
   "metadata": {},
   "outputs": [
    {
     "data": {
      "text/plain": [
       "<AxesSubplot:xlabel='case_month', ylabel='Percent'>"
      ]
     },
     "execution_count": 33,
     "metadata": {},
     "output_type": "execute_result"
    },
    {
     "data": {
      "image/png": "[encoded data removed]",
      "text/plain": [
       "<Figure size 432x288 with 1 Axes>"
      ]
     },
     "metadata": {
      "needs_background": "light"
     },
     "output_type": "display_data"
    }
   ],
   "source": [
    "sns.histplot(parsed_dates.dt.month, stat='percent', bins=12)"
   ]
  },
  {
   "cell_type": "code",
   "execution_count": 38,
   "id": "8441a391",
   "metadata": {},
   "outputs": [
    {
     "data": {
      "text/plain": [
       "[Text(0.5, 1.0, 'Year: 2020')]"
      ]
     },
     "execution_count": 38,
     "metadata": {},
     "output_type": "execute_result"
    },
    {
     "data": {
      "image/png": "[encoded data removed]",
      "text/plain": [
       "<Figure size 432x288 with 1 Axes>"
      ]
     },
     "metadata": {
      "needs_background": "light"
     },
     "output_type": "display_data"
    }
   ],
   "source": [
    "cdc_2020 = parsed_dates[parsed_dates.dt.year == 2020]\n",
    "sns.histplot(cdc_2020.dt.month, stat='percent', bins=12).set(title='Year: 2020')"
   ]
  }
 ],
 "metadata": {
  "kernelspec": {
   "display_name": "Python 3 (ipykernel)",
   "language": "python",
   "name": "python3"
  },
  "language_info": {
   "codemirror_mode": {
    "name": "ipython",
    "version": 3
   },
   "file_extension": ".py",
   "mimetype": "text/x-python",
   "name": "python",
   "nbconvert_exporter": "python",
   "pygments_lexer": "ipython3",
   "version": "3.9.7"
  }
 },
 "nbformat": 4,
 "nbformat_minor": 5
}

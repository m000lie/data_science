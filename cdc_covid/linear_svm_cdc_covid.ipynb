{
 "cells": [
  {
   "cell_type": "code",
   "execution_count": 1,
   "id": "8569b732",
   "metadata": {},
   "outputs": [],
   "source": [
    "import pandas as pd\n",
    "import tensorflow as tf\n",
    "import numpy as np\n",
    "import seaborn as sns\n",
    "import matplotlib.pyplot as plt\n",
    "from IPython.display import clear_output"
   ]
  },
  {
   "cell_type": "code",
   "execution_count": 8,
   "id": "364f8c29",
   "metadata": {},
   "outputs": [],
   "source": [
    "col_list = ['case_month', 'res_state', 'state_fips_code', 'res_county', 'county_fips_code',\n",
    "           'age_group', 'sex', 'race', 'ethnicity', 'case_positive_specimen_interval', \n",
    "           'case_onset_interval', 'process', 'exposure_yn', 'current_status', 'symptom_status',\n",
    "           'hosp_yn', 'icu_yn','death_yn', 'underlying_conditions_yn']\n",
    "dtyp = {'case_positive_specimen_interval':np.int64, 'case_onset_interval':np.int64, 'case_month':str, 'res_state':str, 'state_fips_code':str, 'res_county':str, 'county_fips_code':str,\n",
    "       'age_group':str, 'sex':str, 'race':str, 'ethnicity':str, 'process':str, 'exposure_yn':str, 'current_status':str, 'symptom_status':str,\n",
    "       'hosp_yn':str,'icu_yn':str, 'death_yn':str,'underlying_conditions_yn':str}\n",
    "cdc = pd.read_csv('cdc2.csv', names=col_list, dtype=dtyp, header=1, skiprows=1)"
   ]
  },
  {
   "cell_type": "code",
   "execution_count": 20,
   "id": "10bb5eec",
   "metadata": {},
   "outputs": [],
   "source": [
    "cdc.replace?"
   ]
  },
  {
   "cell_type": "code",
   "execution_count": 3,
   "id": "f9e23211",
   "metadata": {},
   "outputs": [],
   "source": [
    "cdc['death_yn'].replace(to_replace=['No', 'Yes'], value=[0,1], inplace=True)"
   ]
  },
  {
   "cell_type": "code",
   "execution_count": 21,
   "id": "51d1faa9",
   "metadata": {},
   "outputs": [
    {
     "data": {
      "text/plain": [
       "array(['No', 'Yes'], dtype=object)"
      ]
     },
     "execution_count": 21,
     "metadata": {},
     "output_type": "execute_result"
    }
   ],
   "source": [
    "cdc['death_yn'].unique()"
   ]
  },
  {
   "cell_type": "code",
   "execution_count": 14,
   "id": "c42b3ad3",
   "metadata": {},
   "outputs": [
    {
     "data": {
      "text/plain": [
       "case_month                         object\n",
       "res_state                          object\n",
       "state_fips_code                    object\n",
       "res_county                         object\n",
       "county_fips_code                   object\n",
       "age_group                          object\n",
       "sex                                object\n",
       "race                               object\n",
       "ethnicity                          object\n",
       "case_positive_specimen_interval     int64\n",
       "case_onset_interval                 int64\n",
       "process                            object\n",
       "exposure_yn                        object\n",
       "current_status                     object\n",
       "symptom_status                     object\n",
       "hosp_yn                            object\n",
       "icu_yn                             object\n",
       "death_yn                           object\n",
       "underlying_conditions_yn           object\n",
       "dtype: object"
      ]
     },
     "execution_count": 14,
     "metadata": {},
     "output_type": "execute_result"
    }
   ],
   "source": [
    "cdc.dtypes"
   ]
  },
  {
   "cell_type": "code",
   "execution_count": 14,
   "id": "6eb0d32b",
   "metadata": {},
   "outputs": [],
   "source": [
    "cdc.to_csv?"
   ]
  },
  {
   "cell_type": "code",
   "execution_count": 15,
   "id": "7ff9d6e4",
   "metadata": {},
   "outputs": [],
   "source": [
    "cdc[:80000].to_csv('cdctest.csv')"
   ]
  },
  {
   "cell_type": "code",
   "execution_count": 12,
   "id": "27835c49",
   "metadata": {},
   "outputs": [
    {
     "data": {
      "text/html": [
       "<div>\n",
       "<style scoped>\n",
       "    .dataframe tbody tr th:only-of-type {\n",
       "        vertical-align: middle;\n",
       "    }\n",
       "\n",
       "    .dataframe tbody tr th {\n",
       "        vertical-align: top;\n",
       "    }\n",
       "\n",
       "    .dataframe thead th {\n",
       "        text-align: right;\n",
       "    }\n",
       "</style>\n",
       "<table border=\"1\" class=\"dataframe\">\n",
       "  <thead>\n",
       "    <tr style=\"text-align: right;\">\n",
       "      <th></th>\n",
       "      <th>case_month</th>\n",
       "      <th>res_state</th>\n",
       "      <th>state_fips_code</th>\n",
       "      <th>res_county</th>\n",
       "      <th>county_fips_code</th>\n",
       "      <th>age_group</th>\n",
       "      <th>sex</th>\n",
       "      <th>race</th>\n",
       "      <th>ethnicity</th>\n",
       "      <th>case_positive_specimen_interval</th>\n",
       "      <th>case_onset_interval</th>\n",
       "      <th>process</th>\n",
       "      <th>exposure_yn</th>\n",
       "      <th>current_status</th>\n",
       "      <th>symptom_status</th>\n",
       "      <th>hosp_yn</th>\n",
       "      <th>icu_yn</th>\n",
       "      <th>death_yn</th>\n",
       "      <th>underlying_conditions_yn</th>\n",
       "    </tr>\n",
       "  </thead>\n",
       "  <tbody>\n",
       "    <tr>\n",
       "      <th>0</th>\n",
       "      <td>2021-01</td>\n",
       "      <td>NV</td>\n",
       "      <td>32</td>\n",
       "      <td>CLARK</td>\n",
       "      <td>32003</td>\n",
       "      <td>18 to 49 years</td>\n",
       "      <td>Male</td>\n",
       "      <td>Black</td>\n",
       "      <td>Non-Hispanic/Latino</td>\n",
       "      <td>0</td>\n",
       "      <td>0</td>\n",
       "      <td>Multiple</td>\n",
       "      <td>Yes</td>\n",
       "      <td>Laboratory-confirmed case</td>\n",
       "      <td>Symptomatic</td>\n",
       "      <td>No</td>\n",
       "      <td>No</td>\n",
       "      <td>No</td>\n",
       "      <td>Yes</td>\n",
       "    </tr>\n",
       "    <tr>\n",
       "      <th>1</th>\n",
       "      <td>2020-04</td>\n",
       "      <td>IA</td>\n",
       "      <td>19</td>\n",
       "      <td>WOODBURY</td>\n",
       "      <td>19193</td>\n",
       "      <td>50 to 64 years</td>\n",
       "      <td>Female</td>\n",
       "      <td>White</td>\n",
       "      <td>Hispanic/Latino</td>\n",
       "      <td>0</td>\n",
       "      <td>0</td>\n",
       "      <td>Clinical evaluation</td>\n",
       "      <td>Yes</td>\n",
       "      <td>Laboratory-confirmed case</td>\n",
       "      <td>Symptomatic</td>\n",
       "      <td>No</td>\n",
       "      <td>No</td>\n",
       "      <td>No</td>\n",
       "      <td>Yes</td>\n",
       "    </tr>\n",
       "    <tr>\n",
       "      <th>2</th>\n",
       "      <td>2020-08</td>\n",
       "      <td>KS</td>\n",
       "      <td>20</td>\n",
       "      <td>CRAWFORD</td>\n",
       "      <td>20037</td>\n",
       "      <td>18 to 49 years</td>\n",
       "      <td>Male</td>\n",
       "      <td>White</td>\n",
       "      <td>Non-Hispanic/Latino</td>\n",
       "      <td>0</td>\n",
       "      <td>0</td>\n",
       "      <td>Clinical evaluation</td>\n",
       "      <td>Yes</td>\n",
       "      <td>Probable Case</td>\n",
       "      <td>Symptomatic</td>\n",
       "      <td>No</td>\n",
       "      <td>No</td>\n",
       "      <td>No</td>\n",
       "      <td>No</td>\n",
       "    </tr>\n",
       "    <tr>\n",
       "      <th>3</th>\n",
       "      <td>2021-09</td>\n",
       "      <td>OH</td>\n",
       "      <td>39</td>\n",
       "      <td>JEFFERSON</td>\n",
       "      <td>39081</td>\n",
       "      <td>18 to 49 years</td>\n",
       "      <td>Female</td>\n",
       "      <td>White</td>\n",
       "      <td>Non-Hispanic/Latino</td>\n",
       "      <td>0</td>\n",
       "      <td>0</td>\n",
       "      <td>Clinical evaluation</td>\n",
       "      <td>Yes</td>\n",
       "      <td>Laboratory-confirmed case</td>\n",
       "      <td>Symptomatic</td>\n",
       "      <td>No</td>\n",
       "      <td>No</td>\n",
       "      <td>No</td>\n",
       "      <td>Yes</td>\n",
       "    </tr>\n",
       "    <tr>\n",
       "      <th>4</th>\n",
       "      <td>2020-04</td>\n",
       "      <td>IA</td>\n",
       "      <td>19</td>\n",
       "      <td>WOODBURY</td>\n",
       "      <td>19193</td>\n",
       "      <td>50 to 64 years</td>\n",
       "      <td>Female</td>\n",
       "      <td>White</td>\n",
       "      <td>Hispanic/Latino</td>\n",
       "      <td>2</td>\n",
       "      <td>0</td>\n",
       "      <td>Clinical evaluation</td>\n",
       "      <td>Yes</td>\n",
       "      <td>Laboratory-confirmed case</td>\n",
       "      <td>Symptomatic</td>\n",
       "      <td>No</td>\n",
       "      <td>No</td>\n",
       "      <td>No</td>\n",
       "      <td>Yes</td>\n",
       "    </tr>\n",
       "  </tbody>\n",
       "</table>\n",
       "</div>"
      ],
      "text/plain": [
       "  case_month res_state state_fips_code res_county county_fips_code  \\\n",
       "0    2021-01        NV              32      CLARK            32003   \n",
       "1    2020-04        IA              19   WOODBURY            19193   \n",
       "2    2020-08        KS              20   CRAWFORD            20037   \n",
       "3    2021-09        OH              39  JEFFERSON            39081   \n",
       "4    2020-04        IA              19   WOODBURY            19193   \n",
       "\n",
       "        age_group     sex   race            ethnicity  \\\n",
       "0  18 to 49 years    Male  Black  Non-Hispanic/Latino   \n",
       "1  50 to 64 years  Female  White      Hispanic/Latino   \n",
       "2  18 to 49 years    Male  White  Non-Hispanic/Latino   \n",
       "3  18 to 49 years  Female  White  Non-Hispanic/Latino   \n",
       "4  50 to 64 years  Female  White      Hispanic/Latino   \n",
       "\n",
       "   case_positive_specimen_interval  case_onset_interval              process  \\\n",
       "0                                0                    0             Multiple   \n",
       "1                                0                    0  Clinical evaluation   \n",
       "2                                0                    0  Clinical evaluation   \n",
       "3                                0                    0  Clinical evaluation   \n",
       "4                                2                    0  Clinical evaluation   \n",
       "\n",
       "  exposure_yn             current_status symptom_status hosp_yn icu_yn  \\\n",
       "0         Yes  Laboratory-confirmed case    Symptomatic      No     No   \n",
       "1         Yes  Laboratory-confirmed case    Symptomatic      No     No   \n",
       "2         Yes              Probable Case    Symptomatic      No     No   \n",
       "3         Yes  Laboratory-confirmed case    Symptomatic      No     No   \n",
       "4         Yes  Laboratory-confirmed case    Symptomatic      No     No   \n",
       "\n",
       "  death_yn underlying_conditions_yn  \n",
       "0       No                      Yes  \n",
       "1       No                      Yes  \n",
       "2       No                       No  \n",
       "3       No                      Yes  \n",
       "4       No                      Yes  "
      ]
     },
     "execution_count": 12,
     "metadata": {},
     "output_type": "execute_result"
    }
   ],
   "source": [
    "cdc.head()"
   ]
  },
  {
   "cell_type": "code",
   "execution_count": 6,
   "id": "50dc20e2",
   "metadata": {},
   "outputs": [
    {
     "name": "stdout",
     "output_type": "stream",
     "text": [
      "<class 'pandas.core.frame.DataFrame'>\n",
      "RangeIndex: 80000 entries, 0 to 79999\n",
      "Data columns (total 19 columns):\n",
      " #   Column                           Non-Null Count  Dtype  \n",
      "---  ------                           --------------  -----  \n",
      " 0   case_month                       80000 non-null  object \n",
      " 1   res_state                        80000 non-null  object \n",
      " 2   state_fips_code                  80000 non-null  float64\n",
      " 3   res_county                       79750 non-null  object \n",
      " 4   county_fips_code                 79750 non-null  float64\n",
      " 5   age_group                        77517 non-null  object \n",
      " 6   sex                              72346 non-null  object \n",
      " 7   race                             61087 non-null  object \n",
      " 8   ethnicity                        57755 non-null  object \n",
      " 9   case_positive_specimen_interval  31439 non-null  float64\n",
      " 10  case_onset_interval              41777 non-null  float64\n",
      " 11  process                          80000 non-null  object \n",
      " 12  exposure_yn                      80000 non-null  object \n",
      " 13  current_status                   80000 non-null  object \n",
      " 14  symptom_status                   80000 non-null  object \n",
      " 15  hosp_yn                          80000 non-null  object \n",
      " 16  icu_yn                           80000 non-null  object \n",
      " 17  death_yn                         71817 non-null  object \n",
      " 18  underlying_conditions_yn         6006 non-null   object \n",
      "dtypes: float64(4), object(15)\n",
      "memory usage: 11.6+ MB\n"
     ]
    }
   ],
   "source": [
    "cdc.info()"
   ]
  },
  {
   "cell_type": "code",
   "execution_count": 19,
   "id": "7f71b1f9",
   "metadata": {},
   "outputs": [
    {
     "name": "stdout",
     "output_type": "stream",
     "text": [
      "['2021-01' '2020-04' '2020-08' '2021-09' '2020-09' '2020-11' '2021-08'\n",
      " '2020-10' '2021-04' '2020-05' '2021-12' '2021-03' '2021-11' '2021-10'\n",
      " '2020-07' '2020-12' '2021-06' '2021-07' '2021-02' '2020-06' '2020-03'\n",
      " '2021-05']\n",
      "['NV' 'IA' 'KS' 'OH' 'UT' 'KY' 'VT' 'ID' 'CO' 'LA' 'AK' 'MN' 'NY' 'FL'\n",
      " 'NC']\n",
      "['32' '19' '20' '39' '49' '21' '50' '16' '8' '22' '2' '27' '36' '12' '37']\n",
      "['CLARK' 'WOODBURY' 'CRAWFORD' 'JEFFERSON' 'DOUGLAS' 'FORD' 'MONTGOMERY'\n",
      " 'POTTAWATTAMIE' 'MERCER' 'SEWARD' 'CACHE' 'SANPETE' 'FAYETTE' 'MCPHERSON'\n",
      " 'UINTAH' 'WASHINGTON' 'ELKO' 'WARREN' 'SENECA' 'HAMILTON' 'WEBSTER'\n",
      " 'HURON' 'BUTLER' 'RILEY' 'LEAVENWORTH' 'TRUMBULL' 'WOOD' 'HENRY'\n",
      " 'CALLOWAY' 'DEFIANCE' 'PIKE' 'PLYMOUTH' 'JACKSON' 'MADISON' 'PULASKI'\n",
      " 'ROSS' 'WAYNE' 'MARSHALL' 'FAIRFIELD' 'DELAWARE' 'WYANDOT' 'ADAMS'\n",
      " 'BARTON' 'POTTAWATOMIE' 'TAYLOR' 'BOYD' 'PERRY' 'VAN WERT' 'COSHOCTON'\n",
      " 'WASHOE' 'SEVIER' 'BELL' 'DAVIS' 'HOPKINS' 'STARK' 'SEDGWICK' 'LUCAS'\n",
      " 'OTTAWA' 'NELSON' 'FULTON' 'MIAMI' 'LYON' 'JESSAMINE' 'FRANKLIN'\n",
      " 'WHITLEY' 'ASHLAND' 'GALLIA' 'MAHONING' 'GREENE' 'MEIGS' 'LICKING'\n",
      " 'CARROLL' 'HARVEY' 'MUHLENBERG' 'RICHLAND' 'WINDHAM' 'GEAUGA'\n",
      " 'BLACK HAWK' 'LINN' 'HARDIN' 'SANDUSKY' 'ATHENS' 'WASATCH' 'PORTAGE'\n",
      " 'LAWRENCE' 'CUYAHOGA' 'NYE' 'BULLITT' 'FINNEY' 'GUERNSEY' 'MARION'\n",
      " 'JOHNSON' 'BANNOCK' 'PUTNAM' 'JONES' 'PICKAWAY' 'CHAMPAIGN' 'MAHASKA'\n",
      " 'MUSKINGUM' 'MEDINA' 'LAKE' 'LOGAN' 'BELMONT' 'SUMMIT' 'DENVER' 'BINGHAM'\n",
      " 'WEBER' 'SUMNER' 'SHELBY' 'WYANDOTTE' 'BENTON' 'LETCHER' 'JASPER'\n",
      " 'AUGLAIZE' 'ELLIS' 'ERIE' 'ANDERSON' 'RENO' 'WAPELLO' 'MINIDOKA' 'MORROW'\n",
      " 'WOODFORD' 'PREBLE' 'ALLEN' 'SALINE' 'DES MOINES' 'NEZ PERCE' 'JEROME'\n",
      " 'WILLIAMS' 'BLAINE' 'CARTER' 'CLINTON' 'DALLAS' 'BOYLE' 'SCOTT' 'HANCOCK'\n",
      " 'BOX ELDER' 'SIOUX' 'COLUMBIANA' 'GRAYSON' 'GRAVES' 'HOLMES' 'CHITTENDEN'\n",
      " 'MUSCATINE' 'BONNEVILLE' 'KNOX' 'TUSCARAWAS' 'SCIOTO' 'POLK' 'ORLEANS'\n",
      " 'UNION' 'HOCKING' 'ASHTABULA' 'CLERMONT' 'LORAIN' 'SHAWNEE' 'LINCOLN'\n",
      " 'BOONE' 'IRON' 'LEE' 'MORGAN' 'CHURCHILL' 'ANCHORAGE' 'UTAH' 'STORY'\n",
      " 'SALT LAKE' 'MEADE' 'RUTLAND' 'DARKE' 'DUBUQUE' 'OLDHAM' 'CERRO GORDO'\n",
      " 'BREMER' 'FLOYD' 'PAYETTE' 'CALEDONIA' 'LATAH' 'BENNINGTON' 'WINDSOR'\n",
      " 'HIGHLAND' 'CARSON CITY' 'BROOMFIELD' 'MCCRACKEN' 'LAUREL' 'COWLEY'\n",
      " 'CASSIA' 'TWIN FALLS' 'CANYON' 'BARREN' 'GEARY' 'HARLAN' 'DAVIESS'\n",
      " 'TOOELE' 'WELD' 'BOULDER' 'ADA' 'EL PASO' 'PUEBLO' 'LARIMER' 'ARAPAHOE'\n",
      " 'PALM BEACH' 'MECKLENBURG' 'KENTON' 'OHIO' 'CADDO' 'ORANGE']\n",
      "['32003' '19193' '20037' '39081' '20045' '20057' '39113' '19155' '39107'\n",
      " '20175' '49005' '49039' '21067' '20113' '49047' '19183' '32007' '39165'\n",
      " '39147' '39061' '19187' '39077' '20015' '20161' '20103' '19181' '39155'\n",
      " '39173' '39069' '21035' '39039' '21195' '19149' '39079' '39097' '39131'\n",
      " '39023' '21199' '39141' '21231' '19127' '39045' '39041' '39175' '39001'\n",
      " '39033' '20009' '20149' '21217' '21019' '21151' '21193' '39161' '39031'\n",
      " '32031' '49041' '21013' '49011' '21107' '39151' '20173' '39095' '39123'\n",
      " '21179' '39051' '20121' '20111' '21113' '21073' '21235' '39005' '21227'\n",
      " '39053' '39099' '39057' '39105' '39089' '19027' '20079' '21177' '39139'\n",
      " '50025' '39055' '19013' '19113' '21093' '39143' '39009' '49051' '39133'\n",
      " '39087' '39035' '32023' '21029' '20055' '39059' '39101' '19103' '16005'\n",
      " '39137' '19105' '39129' '39049' '39017' '39021' '19123' '39119' '20125'\n",
      " '39103' '39085' '21157' '39167' '39091' '39013' '49043' '8031' '39047'\n",
      " '16011' '49057' '20191' '39149' '32019' '20209' '19125' '39065' '39169'\n",
      " '19011' '21133' '19099' '39011' '20051' '39043' '21005' '20155' '19179'\n",
      " '16067' '39117' '21239' '39135' '39003' '20169' '49053' '19057' '16069'\n",
      " '16053' '8117' '39171' '16013' '16051' '20091' '21049' '21043' '39027'\n",
      " '39019' '19049' '21021' '19163' '39063' '49003' '19167' '50011' '39029'\n",
      " '21085' '21083' '39075' '50007' '19139' '21141' '16019' '21121' '39157'\n",
      " '39145' '19153' '22071' '39159' '39073' '39007' '39127' '39109' '21111'\n",
      " '20059' '39025' '39093' '20177' '39153' '21137' '19015' '49021' '19111'\n",
      " '21209' '8087' '32001' '2020' '19045' '49049' '19169' '49035' '21163'\n",
      " '50021' '39083' '39037' '21167' '21003' '19061' '21185' '19033' '19017'\n",
      " '21071' '16075' '50005' '16057' '50003' '50027' '39071' '50023' '8059'\n",
      " '32510' '8014' '21145' '21173' '21125' '20035' '16031' '21211' '16083'\n",
      " '16027' '21009' '27041' '20061' '21095' '36115' '21059' '16065' '49045'\n",
      " '8123' '8013' '16001' '8041' '12083' '8035' '8101' '8069' '8005' '12099'\n",
      " '37119' '22051' '21117' '21183' '22017' '50017']\n",
      "['18 to 49 years' '50 to 64 years' '65+ years' '0 - 17 years']\n",
      "['Male' 'Female']\n",
      "['Black' 'White' 'Asian' 'Multiple/Other'\n",
      " 'Native Hawaiian/Other Pacific Islander' 'American Indian/Alaska Native']\n",
      "['Non-Hispanic/Latino' 'Hispanic/Latino']\n",
      "[  0   2   1 -12   3  -1 -29 -52 -50   5 -45  -4 -61  -3   4 -20 -77  35\n",
      " -41  24   6  50  -2 -32 -19  25  -7 -22  15 -42  31 -30 -27  34  19 -62\n",
      " -37 -40  -9  60 -18 -57 -14 -26  14 -11 -15  20   9  40  51 -56 -36 -44\n",
      " -13  12  33  42 -48  39 -38  27 -59  -5 -21  23  26 -25  -6  36  11 -67\n",
      " -33   7 -46 -10 -71  53  22 -16  43 -60 -17 -34   8  32  10 -24 -35  75\n",
      "  30  18 -31 -74  83  44 -28 -66  17  71 -64 -70 -49 -54  21  16  13  -8\n",
      " -63  37 -72  59  67  61 -69 -23  68  65  56  49 -51 -39  48  46  28  38\n",
      " -43]\n",
      "[ 0  4  1 14 12  3 13 16 15 18 11  6  2  7  8 33 35  9 10  5 27 43 21 20\n",
      " 40 32 38 36 30 70 44 19 46 17 28 60 72 42 23 24 47 26 37 59 22 73 29 49\n",
      " 25 66 57 58 75 31 71 51 39 34 48 54 74 64]\n",
      "['Multiple' 'Clinical evaluation' 'Contact tracing of case patient'\n",
      " 'Laboratory reported' 'Routine surveillance' 'Other'\n",
      " 'Routine physical examination' 'Provider reported'\n",
      " 'Other detection method (specify)']\n",
      "['Yes']\n",
      "['Laboratory-confirmed case' 'Probable Case']\n",
      "['Symptomatic']\n",
      "['No' 'Yes']\n",
      "['No' 'Yes']\n",
      "['No' 'Yes']\n",
      "['Yes' 'No']\n"
     ]
    }
   ],
   "source": [
    "for i in cdc:\n",
    "    print(cdc[i].unique())"
   ]
  },
  {
   "cell_type": "code",
   "execution_count": 5,
   "id": "f005c844",
   "metadata": {},
   "outputs": [
    {
     "data": {
      "text/plain": [
       "0            0\n",
       "1            1\n",
       "2            2\n",
       "3            3\n",
       "4            4\n",
       "         ...  \n",
       "79995    79995\n",
       "79996    79996\n",
       "79997    79997\n",
       "79998    79998\n",
       "79999    79999\n",
       "Name: Unnamed: 0, Length: 80000, dtype: int64"
      ]
     },
     "execution_count": 5,
     "metadata": {},
     "output_type": "execute_result"
    }
   ],
   "source": [
    "cdc.pop('Unnamed: 0')"
   ]
  },
  {
   "cell_type": "code",
   "execution_count": 8,
   "id": "d9fce366",
   "metadata": {},
   "outputs": [
    {
     "data": {
      "text/plain": [
       "case_month                             0\n",
       "res_state                              0\n",
       "state_fips_code                        0\n",
       "res_county                           250\n",
       "county_fips_code                     250\n",
       "age_group                           2483\n",
       "sex                                 7654\n",
       "race                               18913\n",
       "ethnicity                          22245\n",
       "case_positive_specimen_interval    48561\n",
       "case_onset_interval                38223\n",
       "process                                0\n",
       "exposure_yn                            0\n",
       "current_status                         0\n",
       "symptom_status                         0\n",
       "hosp_yn                                0\n",
       "icu_yn                                 0\n",
       "death_yn                            8183\n",
       "underlying_conditions_yn           73994\n",
       "dtype: int64"
      ]
     },
     "execution_count": 8,
     "metadata": {},
     "output_type": "execute_result"
    }
   ],
   "source": [
    "cdc.isna().sum()"
   ]
  },
  {
   "cell_type": "code",
   "execution_count": 15,
   "id": "4f21c425",
   "metadata": {},
   "outputs": [
    {
     "data": {
      "text/plain": [
       "No     79641\n",
       "Yes     1273\n",
       "Name: death_yn, dtype: int64"
      ]
     },
     "execution_count": 15,
     "metadata": {},
     "output_type": "execute_result"
    }
   ],
   "source": [
    "cdc['death_yn'].value_counts()"
   ]
  },
  {
   "cell_type": "code",
   "execution_count": 49,
   "id": "18763e0f",
   "metadata": {},
   "outputs": [],
   "source": [
    "cdc.drop(columns=['case_positive_specimen_interval', 'case_onset_interval'],inplace=True)"
   ]
  },
  {
   "cell_type": "code",
   "execution_count": 9,
   "id": "0701e8cd",
   "metadata": {},
   "outputs": [],
   "source": [
    "cdc.drop(columns=['age_group'],inplace=True)"
   ]
  },
  {
   "cell_type": "code",
   "execution_count": 9,
   "id": "958807c4",
   "metadata": {},
   "outputs": [
    {
     "data": {
      "text/html": [
       "<div>\n",
       "<style scoped>\n",
       "    .dataframe tbody tr th:only-of-type {\n",
       "        vertical-align: middle;\n",
       "    }\n",
       "\n",
       "    .dataframe tbody tr th {\n",
       "        vertical-align: top;\n",
       "    }\n",
       "\n",
       "    .dataframe thead th {\n",
       "        text-align: right;\n",
       "    }\n",
       "</style>\n",
       "<table border=\"1\" class=\"dataframe\">\n",
       "  <thead>\n",
       "    <tr style=\"text-align: right;\">\n",
       "      <th></th>\n",
       "      <th>case_month</th>\n",
       "      <th>res_state</th>\n",
       "      <th>state_fips_code</th>\n",
       "      <th>res_county</th>\n",
       "      <th>county_fips_code</th>\n",
       "      <th>age_group</th>\n",
       "      <th>sex</th>\n",
       "      <th>race</th>\n",
       "      <th>ethnicity</th>\n",
       "      <th>case_positive_specimen_interval</th>\n",
       "      <th>case_onset_interval</th>\n",
       "      <th>process</th>\n",
       "      <th>exposure_yn</th>\n",
       "      <th>current_status</th>\n",
       "      <th>symptom_status</th>\n",
       "      <th>hosp_yn</th>\n",
       "      <th>icu_yn</th>\n",
       "      <th>death_yn</th>\n",
       "      <th>underlying_conditions_yn</th>\n",
       "    </tr>\n",
       "  </thead>\n",
       "  <tbody>\n",
       "    <tr>\n",
       "      <th>1</th>\n",
       "      <td>2020-12</td>\n",
       "      <td>AR</td>\n",
       "      <td>5.0</td>\n",
       "      <td>POINSETT</td>\n",
       "      <td>5111.0</td>\n",
       "      <td>0 - 17 years</td>\n",
       "      <td>Female</td>\n",
       "      <td>White</td>\n",
       "      <td>Non-Hispanic/Latino</td>\n",
       "      <td>0.0</td>\n",
       "      <td>0.0</td>\n",
       "      <td>Missing</td>\n",
       "      <td>Missing</td>\n",
       "      <td>Laboratory-confirmed case</td>\n",
       "      <td>Symptomatic</td>\n",
       "      <td>No</td>\n",
       "      <td>Missing</td>\n",
       "      <td>No</td>\n",
       "      <td>Yes</td>\n",
       "    </tr>\n",
       "    <tr>\n",
       "      <th>4</th>\n",
       "      <td>2020-11</td>\n",
       "      <td>KS</td>\n",
       "      <td>20.0</td>\n",
       "      <td>FORD</td>\n",
       "      <td>20057.0</td>\n",
       "      <td>18 to 49 years</td>\n",
       "      <td>Male</td>\n",
       "      <td>White</td>\n",
       "      <td>Hispanic/Latino</td>\n",
       "      <td>0.0</td>\n",
       "      <td>0.0</td>\n",
       "      <td>Missing</td>\n",
       "      <td>Yes</td>\n",
       "      <td>Laboratory-confirmed case</td>\n",
       "      <td>Symptomatic</td>\n",
       "      <td>No</td>\n",
       "      <td>No</td>\n",
       "      <td>No</td>\n",
       "      <td>No</td>\n",
       "    </tr>\n",
       "    <tr>\n",
       "      <th>5</th>\n",
       "      <td>2020-12</td>\n",
       "      <td>AR</td>\n",
       "      <td>5.0</td>\n",
       "      <td>CLARK</td>\n",
       "      <td>5019.0</td>\n",
       "      <td>18 to 49 years</td>\n",
       "      <td>Female</td>\n",
       "      <td>Black</td>\n",
       "      <td>Non-Hispanic/Latino</td>\n",
       "      <td>0.0</td>\n",
       "      <td>0.0</td>\n",
       "      <td>Missing</td>\n",
       "      <td>Missing</td>\n",
       "      <td>Laboratory-confirmed case</td>\n",
       "      <td>Symptomatic</td>\n",
       "      <td>No</td>\n",
       "      <td>Missing</td>\n",
       "      <td>No</td>\n",
       "      <td>Yes</td>\n",
       "    </tr>\n",
       "    <tr>\n",
       "      <th>6</th>\n",
       "      <td>2021-08</td>\n",
       "      <td>OH</td>\n",
       "      <td>39.0</td>\n",
       "      <td>MONTGOMERY</td>\n",
       "      <td>39113.0</td>\n",
       "      <td>18 to 49 years</td>\n",
       "      <td>Male</td>\n",
       "      <td>Black</td>\n",
       "      <td>Non-Hispanic/Latino</td>\n",
       "      <td>0.0</td>\n",
       "      <td>0.0</td>\n",
       "      <td>Clinical evaluation</td>\n",
       "      <td>Yes</td>\n",
       "      <td>Laboratory-confirmed case</td>\n",
       "      <td>Symptomatic</td>\n",
       "      <td>No</td>\n",
       "      <td>Missing</td>\n",
       "      <td>No</td>\n",
       "      <td>Yes</td>\n",
       "    </tr>\n",
       "    <tr>\n",
       "      <th>7</th>\n",
       "      <td>2020-04</td>\n",
       "      <td>NY</td>\n",
       "      <td>36.0</td>\n",
       "      <td>WASHINGTON</td>\n",
       "      <td>36115.0</td>\n",
       "      <td>65+ years</td>\n",
       "      <td>Female</td>\n",
       "      <td>White</td>\n",
       "      <td>Non-Hispanic/Latino</td>\n",
       "      <td>23.0</td>\n",
       "      <td>0.0</td>\n",
       "      <td>Missing</td>\n",
       "      <td>Yes</td>\n",
       "      <td>Laboratory-confirmed case</td>\n",
       "      <td>Symptomatic</td>\n",
       "      <td>Missing</td>\n",
       "      <td>No</td>\n",
       "      <td>No</td>\n",
       "      <td>Yes</td>\n",
       "    </tr>\n",
       "    <tr>\n",
       "      <th>...</th>\n",
       "      <td>...</td>\n",
       "      <td>...</td>\n",
       "      <td>...</td>\n",
       "      <td>...</td>\n",
       "      <td>...</td>\n",
       "      <td>...</td>\n",
       "      <td>...</td>\n",
       "      <td>...</td>\n",
       "      <td>...</td>\n",
       "      <td>...</td>\n",
       "      <td>...</td>\n",
       "      <td>...</td>\n",
       "      <td>...</td>\n",
       "      <td>...</td>\n",
       "      <td>...</td>\n",
       "      <td>...</td>\n",
       "      <td>...</td>\n",
       "      <td>...</td>\n",
       "      <td>...</td>\n",
       "    </tr>\n",
       "    <tr>\n",
       "      <th>1051949</th>\n",
       "      <td>2020-05</td>\n",
       "      <td>KS</td>\n",
       "      <td>20.0</td>\n",
       "      <td>SEWARD</td>\n",
       "      <td>20175.0</td>\n",
       "      <td>18 to 49 years</td>\n",
       "      <td>Male</td>\n",
       "      <td>White</td>\n",
       "      <td>Hispanic/Latino</td>\n",
       "      <td>1.0</td>\n",
       "      <td>0.0</td>\n",
       "      <td>Clinical evaluation</td>\n",
       "      <td>Unknown</td>\n",
       "      <td>Laboratory-confirmed case</td>\n",
       "      <td>Symptomatic</td>\n",
       "      <td>Unknown</td>\n",
       "      <td>No</td>\n",
       "      <td>No</td>\n",
       "      <td>Yes</td>\n",
       "    </tr>\n",
       "    <tr>\n",
       "      <th>1051951</th>\n",
       "      <td>2021-05</td>\n",
       "      <td>PA</td>\n",
       "      <td>42.0</td>\n",
       "      <td>LEHIGH</td>\n",
       "      <td>42077.0</td>\n",
       "      <td>18 to 49 years</td>\n",
       "      <td>Male</td>\n",
       "      <td>White</td>\n",
       "      <td>Hispanic/Latino</td>\n",
       "      <td>0.0</td>\n",
       "      <td>0.0</td>\n",
       "      <td>Missing</td>\n",
       "      <td>Yes</td>\n",
       "      <td>Laboratory-confirmed case</td>\n",
       "      <td>Symptomatic</td>\n",
       "      <td>No</td>\n",
       "      <td>No</td>\n",
       "      <td>No</td>\n",
       "      <td>Yes</td>\n",
       "    </tr>\n",
       "    <tr>\n",
       "      <th>1051952</th>\n",
       "      <td>2020-12</td>\n",
       "      <td>AR</td>\n",
       "      <td>5.0</td>\n",
       "      <td>BAXTER</td>\n",
       "      <td>5005.0</td>\n",
       "      <td>65+ years</td>\n",
       "      <td>Female</td>\n",
       "      <td>White</td>\n",
       "      <td>Non-Hispanic/Latino</td>\n",
       "      <td>1.0</td>\n",
       "      <td>0.0</td>\n",
       "      <td>Missing</td>\n",
       "      <td>Missing</td>\n",
       "      <td>Laboratory-confirmed case</td>\n",
       "      <td>Symptomatic</td>\n",
       "      <td>No</td>\n",
       "      <td>Missing</td>\n",
       "      <td>No</td>\n",
       "      <td>Yes</td>\n",
       "    </tr>\n",
       "    <tr>\n",
       "      <th>1051953</th>\n",
       "      <td>2020-11</td>\n",
       "      <td>KY</td>\n",
       "      <td>21.0</td>\n",
       "      <td>OHIO</td>\n",
       "      <td>21183.0</td>\n",
       "      <td>65+ years</td>\n",
       "      <td>Female</td>\n",
       "      <td>White</td>\n",
       "      <td>Non-Hispanic/Latino</td>\n",
       "      <td>0.0</td>\n",
       "      <td>0.0</td>\n",
       "      <td>Missing</td>\n",
       "      <td>Yes</td>\n",
       "      <td>Laboratory-confirmed case</td>\n",
       "      <td>Symptomatic</td>\n",
       "      <td>No</td>\n",
       "      <td>Missing</td>\n",
       "      <td>No</td>\n",
       "      <td>Yes</td>\n",
       "    </tr>\n",
       "    <tr>\n",
       "      <th>1051954</th>\n",
       "      <td>2021-11</td>\n",
       "      <td>NC</td>\n",
       "      <td>37.0</td>\n",
       "      <td>DAVIE</td>\n",
       "      <td>37059.0</td>\n",
       "      <td>50 to 64 years</td>\n",
       "      <td>Male</td>\n",
       "      <td>White</td>\n",
       "      <td>Non-Hispanic/Latino</td>\n",
       "      <td>0.0</td>\n",
       "      <td>0.0</td>\n",
       "      <td>Missing</td>\n",
       "      <td>Unknown</td>\n",
       "      <td>Laboratory-confirmed case</td>\n",
       "      <td>Symptomatic</td>\n",
       "      <td>No</td>\n",
       "      <td>Unknown</td>\n",
       "      <td>No</td>\n",
       "      <td>Yes</td>\n",
       "    </tr>\n",
       "  </tbody>\n",
       "</table>\n",
       "<p>692994 rows × 19 columns</p>\n",
       "</div>"
      ],
      "text/plain": [
       "        case_month res_state  state_fips_code  res_county  county_fips_code  \\\n",
       "1          2020-12        AR              5.0    POINSETT            5111.0   \n",
       "4          2020-11        KS             20.0        FORD           20057.0   \n",
       "5          2020-12        AR              5.0       CLARK            5019.0   \n",
       "6          2021-08        OH             39.0  MONTGOMERY           39113.0   \n",
       "7          2020-04        NY             36.0  WASHINGTON           36115.0   \n",
       "...            ...       ...              ...         ...               ...   \n",
       "1051949    2020-05        KS             20.0      SEWARD           20175.0   \n",
       "1051951    2021-05        PA             42.0      LEHIGH           42077.0   \n",
       "1051952    2020-12        AR              5.0      BAXTER            5005.0   \n",
       "1051953    2020-11        KY             21.0        OHIO           21183.0   \n",
       "1051954    2021-11        NC             37.0       DAVIE           37059.0   \n",
       "\n",
       "              age_group     sex   race            ethnicity  \\\n",
       "1          0 - 17 years  Female  White  Non-Hispanic/Latino   \n",
       "4        18 to 49 years    Male  White      Hispanic/Latino   \n",
       "5        18 to 49 years  Female  Black  Non-Hispanic/Latino   \n",
       "6        18 to 49 years    Male  Black  Non-Hispanic/Latino   \n",
       "7             65+ years  Female  White  Non-Hispanic/Latino   \n",
       "...                 ...     ...    ...                  ...   \n",
       "1051949  18 to 49 years    Male  White      Hispanic/Latino   \n",
       "1051951  18 to 49 years    Male  White      Hispanic/Latino   \n",
       "1051952       65+ years  Female  White  Non-Hispanic/Latino   \n",
       "1051953       65+ years  Female  White  Non-Hispanic/Latino   \n",
       "1051954  50 to 64 years    Male  White  Non-Hispanic/Latino   \n",
       "\n",
       "         case_positive_specimen_interval  case_onset_interval  \\\n",
       "1                                    0.0                  0.0   \n",
       "4                                    0.0                  0.0   \n",
       "5                                    0.0                  0.0   \n",
       "6                                    0.0                  0.0   \n",
       "7                                   23.0                  0.0   \n",
       "...                                  ...                  ...   \n",
       "1051949                              1.0                  0.0   \n",
       "1051951                              0.0                  0.0   \n",
       "1051952                              1.0                  0.0   \n",
       "1051953                              0.0                  0.0   \n",
       "1051954                              0.0                  0.0   \n",
       "\n",
       "                     process exposure_yn             current_status  \\\n",
       "1                    Missing     Missing  Laboratory-confirmed case   \n",
       "4                    Missing         Yes  Laboratory-confirmed case   \n",
       "5                    Missing     Missing  Laboratory-confirmed case   \n",
       "6        Clinical evaluation         Yes  Laboratory-confirmed case   \n",
       "7                    Missing         Yes  Laboratory-confirmed case   \n",
       "...                      ...         ...                        ...   \n",
       "1051949  Clinical evaluation     Unknown  Laboratory-confirmed case   \n",
       "1051951              Missing         Yes  Laboratory-confirmed case   \n",
       "1051952              Missing     Missing  Laboratory-confirmed case   \n",
       "1051953              Missing         Yes  Laboratory-confirmed case   \n",
       "1051954              Missing     Unknown  Laboratory-confirmed case   \n",
       "\n",
       "        symptom_status  hosp_yn   icu_yn death_yn underlying_conditions_yn  \n",
       "1          Symptomatic       No  Missing       No                      Yes  \n",
       "4          Symptomatic       No       No       No                       No  \n",
       "5          Symptomatic       No  Missing       No                      Yes  \n",
       "6          Symptomatic       No  Missing       No                      Yes  \n",
       "7          Symptomatic  Missing       No       No                      Yes  \n",
       "...                ...      ...      ...      ...                      ...  \n",
       "1051949    Symptomatic  Unknown       No       No                      Yes  \n",
       "1051951    Symptomatic       No       No       No                      Yes  \n",
       "1051952    Symptomatic       No  Missing       No                      Yes  \n",
       "1051953    Symptomatic       No  Missing       No                      Yes  \n",
       "1051954    Symptomatic       No  Unknown       No                      Yes  \n",
       "\n",
       "[692994 rows x 19 columns]"
      ]
     },
     "execution_count": 9,
     "metadata": {},
     "output_type": "execute_result"
    }
   ],
   "source": [
    "cdc"
   ]
  },
  {
   "cell_type": "code",
   "execution_count": 4,
   "id": "d316a6af",
   "metadata": {
    "scrolled": false
   },
   "outputs": [
    {
     "data": {
      "text/html": [
       "<div>\n",
       "<style scoped>\n",
       "    .dataframe tbody tr th:only-of-type {\n",
       "        vertical-align: middle;\n",
       "    }\n",
       "\n",
       "    .dataframe tbody tr th {\n",
       "        vertical-align: top;\n",
       "    }\n",
       "\n",
       "    .dataframe thead th {\n",
       "        text-align: right;\n",
       "    }\n",
       "</style>\n",
       "<table border=\"1\" class=\"dataframe\">\n",
       "  <thead>\n",
       "    <tr style=\"text-align: right;\">\n",
       "      <th></th>\n",
       "      <th>case_month</th>\n",
       "      <th>res_state</th>\n",
       "      <th>state_fips_code</th>\n",
       "      <th>res_county</th>\n",
       "      <th>county_fips_code</th>\n",
       "      <th>age_group</th>\n",
       "      <th>sex</th>\n",
       "      <th>race</th>\n",
       "      <th>ethnicity</th>\n",
       "      <th>case_positive_specimen_interval</th>\n",
       "      <th>case_onset_interval</th>\n",
       "      <th>process</th>\n",
       "      <th>exposure_yn</th>\n",
       "      <th>current_status</th>\n",
       "      <th>symptom_status</th>\n",
       "      <th>hosp_yn</th>\n",
       "      <th>icu_yn</th>\n",
       "      <th>underlying_conditions_yn</th>\n",
       "    </tr>\n",
       "  </thead>\n",
       "  <tbody>\n",
       "    <tr>\n",
       "      <th>0</th>\n",
       "      <td>2021-01</td>\n",
       "      <td>NV</td>\n",
       "      <td>32</td>\n",
       "      <td>CLARK</td>\n",
       "      <td>32003</td>\n",
       "      <td>18 to 49 years</td>\n",
       "      <td>Male</td>\n",
       "      <td>Black</td>\n",
       "      <td>Non-Hispanic/Latino</td>\n",
       "      <td>0</td>\n",
       "      <td>0</td>\n",
       "      <td>Multiple</td>\n",
       "      <td>Yes</td>\n",
       "      <td>Laboratory-confirmed case</td>\n",
       "      <td>Symptomatic</td>\n",
       "      <td>No</td>\n",
       "      <td>No</td>\n",
       "      <td>Yes</td>\n",
       "    </tr>\n",
       "    <tr>\n",
       "      <th>1</th>\n",
       "      <td>2020-04</td>\n",
       "      <td>IA</td>\n",
       "      <td>19</td>\n",
       "      <td>WOODBURY</td>\n",
       "      <td>19193</td>\n",
       "      <td>50 to 64 years</td>\n",
       "      <td>Female</td>\n",
       "      <td>White</td>\n",
       "      <td>Hispanic/Latino</td>\n",
       "      <td>0</td>\n",
       "      <td>0</td>\n",
       "      <td>Clinical evaluation</td>\n",
       "      <td>Yes</td>\n",
       "      <td>Laboratory-confirmed case</td>\n",
       "      <td>Symptomatic</td>\n",
       "      <td>No</td>\n",
       "      <td>No</td>\n",
       "      <td>Yes</td>\n",
       "    </tr>\n",
       "    <tr>\n",
       "      <th>2</th>\n",
       "      <td>2020-08</td>\n",
       "      <td>KS</td>\n",
       "      <td>20</td>\n",
       "      <td>CRAWFORD</td>\n",
       "      <td>20037</td>\n",
       "      <td>18 to 49 years</td>\n",
       "      <td>Male</td>\n",
       "      <td>White</td>\n",
       "      <td>Non-Hispanic/Latino</td>\n",
       "      <td>0</td>\n",
       "      <td>0</td>\n",
       "      <td>Clinical evaluation</td>\n",
       "      <td>Yes</td>\n",
       "      <td>Probable Case</td>\n",
       "      <td>Symptomatic</td>\n",
       "      <td>No</td>\n",
       "      <td>No</td>\n",
       "      <td>No</td>\n",
       "    </tr>\n",
       "    <tr>\n",
       "      <th>3</th>\n",
       "      <td>2021-09</td>\n",
       "      <td>OH</td>\n",
       "      <td>39</td>\n",
       "      <td>JEFFERSON</td>\n",
       "      <td>39081</td>\n",
       "      <td>18 to 49 years</td>\n",
       "      <td>Female</td>\n",
       "      <td>White</td>\n",
       "      <td>Non-Hispanic/Latino</td>\n",
       "      <td>0</td>\n",
       "      <td>0</td>\n",
       "      <td>Clinical evaluation</td>\n",
       "      <td>Yes</td>\n",
       "      <td>Laboratory-confirmed case</td>\n",
       "      <td>Symptomatic</td>\n",
       "      <td>No</td>\n",
       "      <td>No</td>\n",
       "      <td>Yes</td>\n",
       "    </tr>\n",
       "    <tr>\n",
       "      <th>4</th>\n",
       "      <td>2020-04</td>\n",
       "      <td>IA</td>\n",
       "      <td>19</td>\n",
       "      <td>WOODBURY</td>\n",
       "      <td>19193</td>\n",
       "      <td>50 to 64 years</td>\n",
       "      <td>Female</td>\n",
       "      <td>White</td>\n",
       "      <td>Hispanic/Latino</td>\n",
       "      <td>2</td>\n",
       "      <td>0</td>\n",
       "      <td>Clinical evaluation</td>\n",
       "      <td>Yes</td>\n",
       "      <td>Laboratory-confirmed case</td>\n",
       "      <td>Symptomatic</td>\n",
       "      <td>No</td>\n",
       "      <td>No</td>\n",
       "      <td>Yes</td>\n",
       "    </tr>\n",
       "    <tr>\n",
       "      <th>...</th>\n",
       "      <td>...</td>\n",
       "      <td>...</td>\n",
       "      <td>...</td>\n",
       "      <td>...</td>\n",
       "      <td>...</td>\n",
       "      <td>...</td>\n",
       "      <td>...</td>\n",
       "      <td>...</td>\n",
       "      <td>...</td>\n",
       "      <td>...</td>\n",
       "      <td>...</td>\n",
       "      <td>...</td>\n",
       "      <td>...</td>\n",
       "      <td>...</td>\n",
       "      <td>...</td>\n",
       "      <td>...</td>\n",
       "      <td>...</td>\n",
       "      <td>...</td>\n",
       "    </tr>\n",
       "    <tr>\n",
       "      <th>74995</th>\n",
       "      <td>2020-07</td>\n",
       "      <td>NV</td>\n",
       "      <td>32</td>\n",
       "      <td>CLARK</td>\n",
       "      <td>32003</td>\n",
       "      <td>18 to 49 years</td>\n",
       "      <td>Female</td>\n",
       "      <td>White</td>\n",
       "      <td>Non-Hispanic/Latino</td>\n",
       "      <td>1</td>\n",
       "      <td>0</td>\n",
       "      <td>Routine surveillance</td>\n",
       "      <td>Yes</td>\n",
       "      <td>Laboratory-confirmed case</td>\n",
       "      <td>Symptomatic</td>\n",
       "      <td>No</td>\n",
       "      <td>No</td>\n",
       "      <td>Yes</td>\n",
       "    </tr>\n",
       "    <tr>\n",
       "      <th>74996</th>\n",
       "      <td>2020-07</td>\n",
       "      <td>NV</td>\n",
       "      <td>32</td>\n",
       "      <td>CLARK</td>\n",
       "      <td>32003</td>\n",
       "      <td>18 to 49 years</td>\n",
       "      <td>Female</td>\n",
       "      <td>White</td>\n",
       "      <td>Non-Hispanic/Latino</td>\n",
       "      <td>1</td>\n",
       "      <td>0</td>\n",
       "      <td>Multiple</td>\n",
       "      <td>Yes</td>\n",
       "      <td>Laboratory-confirmed case</td>\n",
       "      <td>Symptomatic</td>\n",
       "      <td>No</td>\n",
       "      <td>No</td>\n",
       "      <td>Yes</td>\n",
       "    </tr>\n",
       "    <tr>\n",
       "      <th>74997</th>\n",
       "      <td>2020-07</td>\n",
       "      <td>NV</td>\n",
       "      <td>32</td>\n",
       "      <td>CLARK</td>\n",
       "      <td>32003</td>\n",
       "      <td>18 to 49 years</td>\n",
       "      <td>Female</td>\n",
       "      <td>White</td>\n",
       "      <td>Non-Hispanic/Latino</td>\n",
       "      <td>0</td>\n",
       "      <td>0</td>\n",
       "      <td>Routine surveillance</td>\n",
       "      <td>Yes</td>\n",
       "      <td>Laboratory-confirmed case</td>\n",
       "      <td>Symptomatic</td>\n",
       "      <td>No</td>\n",
       "      <td>No</td>\n",
       "      <td>Yes</td>\n",
       "    </tr>\n",
       "    <tr>\n",
       "      <th>74998</th>\n",
       "      <td>2020-07</td>\n",
       "      <td>NV</td>\n",
       "      <td>32</td>\n",
       "      <td>CLARK</td>\n",
       "      <td>32003</td>\n",
       "      <td>18 to 49 years</td>\n",
       "      <td>Female</td>\n",
       "      <td>White</td>\n",
       "      <td>Non-Hispanic/Latino</td>\n",
       "      <td>0</td>\n",
       "      <td>0</td>\n",
       "      <td>Routine surveillance</td>\n",
       "      <td>Yes</td>\n",
       "      <td>Laboratory-confirmed case</td>\n",
       "      <td>Symptomatic</td>\n",
       "      <td>No</td>\n",
       "      <td>No</td>\n",
       "      <td>Yes</td>\n",
       "    </tr>\n",
       "    <tr>\n",
       "      <th>74999</th>\n",
       "      <td>2020-07</td>\n",
       "      <td>NV</td>\n",
       "      <td>32</td>\n",
       "      <td>CLARK</td>\n",
       "      <td>32003</td>\n",
       "      <td>18 to 49 years</td>\n",
       "      <td>Female</td>\n",
       "      <td>White</td>\n",
       "      <td>Non-Hispanic/Latino</td>\n",
       "      <td>0</td>\n",
       "      <td>0</td>\n",
       "      <td>Routine surveillance</td>\n",
       "      <td>Yes</td>\n",
       "      <td>Laboratory-confirmed case</td>\n",
       "      <td>Symptomatic</td>\n",
       "      <td>No</td>\n",
       "      <td>No</td>\n",
       "      <td>Yes</td>\n",
       "    </tr>\n",
       "  </tbody>\n",
       "</table>\n",
       "<p>75000 rows × 18 columns</p>\n",
       "</div>"
      ],
      "text/plain": [
       "      case_month res_state state_fips_code res_county county_fips_code  \\\n",
       "0        2021-01        NV              32      CLARK            32003   \n",
       "1        2020-04        IA              19   WOODBURY            19193   \n",
       "2        2020-08        KS              20   CRAWFORD            20037   \n",
       "3        2021-09        OH              39  JEFFERSON            39081   \n",
       "4        2020-04        IA              19   WOODBURY            19193   \n",
       "...          ...       ...             ...        ...              ...   \n",
       "74995    2020-07        NV              32      CLARK            32003   \n",
       "74996    2020-07        NV              32      CLARK            32003   \n",
       "74997    2020-07        NV              32      CLARK            32003   \n",
       "74998    2020-07        NV              32      CLARK            32003   \n",
       "74999    2020-07        NV              32      CLARK            32003   \n",
       "\n",
       "            age_group     sex   race            ethnicity  \\\n",
       "0      18 to 49 years    Male  Black  Non-Hispanic/Latino   \n",
       "1      50 to 64 years  Female  White      Hispanic/Latino   \n",
       "2      18 to 49 years    Male  White  Non-Hispanic/Latino   \n",
       "3      18 to 49 years  Female  White  Non-Hispanic/Latino   \n",
       "4      50 to 64 years  Female  White      Hispanic/Latino   \n",
       "...               ...     ...    ...                  ...   \n",
       "74995  18 to 49 years  Female  White  Non-Hispanic/Latino   \n",
       "74996  18 to 49 years  Female  White  Non-Hispanic/Latino   \n",
       "74997  18 to 49 years  Female  White  Non-Hispanic/Latino   \n",
       "74998  18 to 49 years  Female  White  Non-Hispanic/Latino   \n",
       "74999  18 to 49 years  Female  White  Non-Hispanic/Latino   \n",
       "\n",
       "       case_positive_specimen_interval  case_onset_interval  \\\n",
       "0                                    0                    0   \n",
       "1                                    0                    0   \n",
       "2                                    0                    0   \n",
       "3                                    0                    0   \n",
       "4                                    2                    0   \n",
       "...                                ...                  ...   \n",
       "74995                                1                    0   \n",
       "74996                                1                    0   \n",
       "74997                                0                    0   \n",
       "74998                                0                    0   \n",
       "74999                                0                    0   \n",
       "\n",
       "                    process exposure_yn             current_status  \\\n",
       "0                  Multiple         Yes  Laboratory-confirmed case   \n",
       "1       Clinical evaluation         Yes  Laboratory-confirmed case   \n",
       "2       Clinical evaluation         Yes              Probable Case   \n",
       "3       Clinical evaluation         Yes  Laboratory-confirmed case   \n",
       "4       Clinical evaluation         Yes  Laboratory-confirmed case   \n",
       "...                     ...         ...                        ...   \n",
       "74995  Routine surveillance         Yes  Laboratory-confirmed case   \n",
       "74996              Multiple         Yes  Laboratory-confirmed case   \n",
       "74997  Routine surveillance         Yes  Laboratory-confirmed case   \n",
       "74998  Routine surveillance         Yes  Laboratory-confirmed case   \n",
       "74999  Routine surveillance         Yes  Laboratory-confirmed case   \n",
       "\n",
       "      symptom_status hosp_yn icu_yn underlying_conditions_yn  \n",
       "0        Symptomatic      No     No                      Yes  \n",
       "1        Symptomatic      No     No                      Yes  \n",
       "2        Symptomatic      No     No                       No  \n",
       "3        Symptomatic      No     No                      Yes  \n",
       "4        Symptomatic      No     No                      Yes  \n",
       "...              ...     ...    ...                      ...  \n",
       "74995    Symptomatic      No     No                      Yes  \n",
       "74996    Symptomatic      No     No                      Yes  \n",
       "74997    Symptomatic      No     No                      Yes  \n",
       "74998    Symptomatic      No     No                      Yes  \n",
       "74999    Symptomatic      No     No                      Yes  \n",
       "\n",
       "[75000 rows x 18 columns]"
      ]
     },
     "execution_count": 4,
     "metadata": {},
     "output_type": "execute_result"
    }
   ],
   "source": [
    "# test = cdc.loc[-1:250000].dropna()\n",
    "# test = test.drop(test[test['icu_yn']=='nul'].index)\n",
    "# train = cdc.loc[250000:].dropna()\n",
    "# train = train.drop(train[train['icu_yn']=='nul'].index)\n",
    "train = cdc[:75000]\n",
    "test = cdc[75000:]\n",
    "y_train = train.pop('death_yn')\n",
    "y_test = test.pop('death_yn')\n",
    "cdc.pop('death_yn')\n",
    "# train.reset_index()\n",
    "# test.reset_index()\n",
    "\n",
    "train"
   ]
  },
  {
   "cell_type": "code",
   "execution_count": 20,
   "id": "3bed94ac",
   "metadata": {},
   "outputs": [
    {
     "name": "stdout",
     "output_type": "stream",
     "text": [
      "<class 'pandas.core.frame.DataFrame'>\n",
      "RangeIndex: 80915 entries, 0 to 80914\n",
      "Data columns (total 19 columns):\n",
      " #   Column                           Non-Null Count  Dtype  \n",
      "---  ------                           --------------  -----  \n",
      " 0   case_month                       80915 non-null  object \n",
      " 1   res_state                        80915 non-null  object \n",
      " 2   state_fips_code                  80915 non-null  float64\n",
      " 3   res_county                       80915 non-null  object \n",
      " 4   county_fips_code                 80915 non-null  float64\n",
      " 5   age_group                        80915 non-null  object \n",
      " 6   sex                              80915 non-null  object \n",
      " 7   race                             80915 non-null  object \n",
      " 8   ethnicity                        80915 non-null  object \n",
      " 9   case_positive_specimen_interval  80915 non-null  float64\n",
      " 10  case_onset_interval              80915 non-null  float64\n",
      " 11  process                          80915 non-null  object \n",
      " 12  exposure_yn                      80915 non-null  object \n",
      " 13  current_status                   80915 non-null  object \n",
      " 14  symptom_status                   80915 non-null  object \n",
      " 15  hosp_yn                          80915 non-null  object \n",
      " 16  icu_yn                           80915 non-null  object \n",
      " 17  death_yn                         80915 non-null  object \n",
      " 18  underlying_conditions_yn         80915 non-null  object \n",
      "dtypes: float64(4), object(15)\n",
      "memory usage: 11.7+ MB\n"
     ]
    }
   ],
   "source": [
    "cdc.info()"
   ]
  },
  {
   "cell_type": "code",
   "execution_count": 13,
   "id": "1a00b153",
   "metadata": {},
   "outputs": [],
   "source": [
    "cdc = cdc.astype({'state_fips_code':str, 'county_fips_code':str})"
   ]
  },
  {
   "cell_type": "code",
   "execution_count": 54,
   "id": "06a5ad7b",
   "metadata": {},
   "outputs": [
    {
     "data": {
      "text/plain": [
       "Series([], dtype: float64)"
      ]
     },
     "execution_count": 54,
     "metadata": {},
     "output_type": "execute_result"
    }
   ],
   "source": [
    "missing_percentages = (cdc.isna().sum().sort_values(ascending = False) / len(cdc) * 100)\n",
    "filtered_missing_percentages = missing_percentages[missing_percentages != 0]\n",
    "filtered_missing_percentages"
   ]
  },
  {
   "cell_type": "code",
   "execution_count": 19,
   "id": "4eaa1b8e",
   "metadata": {},
   "outputs": [],
   "source": [
    "numerics = ['int16', 'int32', 'int64', 'float16', 'float32', 'float64']\n",
    "\n",
    "newcdc = cdc.select_dtypes(include=numerics)"
   ]
  },
  {
   "cell_type": "code",
   "execution_count": 21,
   "id": "03caab12",
   "metadata": {},
   "outputs": [
    {
     "data": {
      "text/plain": [
       "Index(['state_fips_code', 'county_fips_code',\n",
       "       'case_positive_specimen_interval', 'case_onset_interval'],\n",
       "      dtype='object')"
      ]
     },
     "execution_count": 21,
     "metadata": {},
     "output_type": "execute_result"
    }
   ],
   "source": [
    "newcdc.columns"
   ]
  },
  {
   "cell_type": "code",
   "execution_count": 14,
   "id": "a9c04a5e",
   "metadata": {},
   "outputs": [
    {
     "data": {
      "text/plain": [
       "array([nan, 'Yes', 'No'], dtype=object)"
      ]
     },
     "execution_count": 14,
     "metadata": {},
     "output_type": "execute_result"
    }
   ],
   "source": [
    "cdc['underlying_conditions_yn'].unique()"
   ]
  },
  {
   "cell_type": "code",
   "execution_count": 9,
   "id": "da2e5658",
   "metadata": {},
   "outputs": [
    {
     "data": {
      "text/plain": [
       "Female     20578275\n",
       "Male       18727919\n",
       "Unknown      294302\n",
       "Missing       47215\n",
       "Other            12\n",
       "Name: sex, dtype: int64"
      ]
     },
     "execution_count": 9,
     "metadata": {},
     "output_type": "execute_result"
    }
   ],
   "source": [
    "cdc['sex'].value_counts()"
   ]
  },
  {
   "cell_type": "code",
   "execution_count": 10,
   "id": "72f1ee8c",
   "metadata": {},
   "outputs": [
    {
     "data": {
      "text/plain": [
       "<AxesSubplot:>"
      ]
     },
     "execution_count": 10,
     "metadata": {},
     "output_type": "execute_result"
    },
    {
     "data": {
      "image/png": "[encoded data removed]",
      "text/plain": [
       "<Figure size 432x288 with 1 Axes>"
      ]
     },
     "metadata": {
      "needs_background": "light"
     },
     "output_type": "display_data"
    }
   ],
   "source": [
    "cdc['age_group'].value_counts().plot(kind='barh')"
   ]
  },
  {
   "cell_type": "code",
   "execution_count": 25,
   "id": "4ee716c4",
   "metadata": {},
   "outputs": [
    {
     "data": {
      "text/plain": [
       "<AxesSubplot:>"
      ]
     },
     "execution_count": 25,
     "metadata": {},
     "output_type": "execute_result"
    },
    {
     "data": {
      "image/png": "[encoded data removed]",
      "text/plain": [
       "<Figure size 432x288 with 1 Axes>"
      ]
     },
     "metadata": {
      "needs_background": "light"
     },
     "output_type": "display_data"
    }
   ],
   "source": [
    "\n",
    "cdc['sex'].value_counts().plot(kind='barh')"
   ]
  },
  {
   "cell_type": "code",
   "execution_count": 26,
   "id": "a406c737",
   "metadata": {},
   "outputs": [
    {
     "data": {
      "text/plain": [
       "Index(['case_month', 'res_state', 'state_fips_code', 'res_county',\n",
       "       'county_fips_code', 'age_group', 'sex', 'race', 'ethnicity',\n",
       "       'case_positive_specimen_interval', 'case_onset_interval', 'process',\n",
       "       'exposure_yn', 'current_status', 'symptom_status', 'hosp_yn', 'icu_yn',\n",
       "       'death_yn', 'underlying_conditions_yn'],\n",
       "      dtype='object')"
      ]
     },
     "execution_count": 26,
     "metadata": {},
     "output_type": "execute_result"
    }
   ],
   "source": [
    "cdc.columns"
   ]
  },
  {
   "cell_type": "code",
   "execution_count": 30,
   "id": "5a0801b8",
   "metadata": {},
   "outputs": [
    {
     "data": {
      "image/png": "[encoded data removed]",
      "text/plain": [
       "<Figure size 432x288 with 1 Axes>"
      ]
     },
     "metadata": {
      "needs_background": "light"
     },
     "output_type": "display_data"
    }
   ],
   "source": [
    "state = cdc['res_state'].value_counts()\n",
    "top_20_states = state[:20].plot(kind='barh')"
   ]
  },
  {
   "cell_type": "code",
   "execution_count": 39,
   "id": "c6ef0701",
   "metadata": {},
   "outputs": [
    {
     "data": {
      "text/plain": [
       "<AxesSubplot:xlabel='res_state', ylabel='Percent'>"
      ]
     },
     "execution_count": 39,
     "metadata": {},
     "output_type": "execute_result"
    },
    {
     "data": {
      "image/png": "[encoded data removed]",
      "text/plain": [
       "<Figure size 432x288 with 1 Axes>"
      ]
     },
     "metadata": {
      "needs_background": "light"
     },
     "output_type": "display_data"
    }
   ],
   "source": [
    "sns.histplot(state, stat='percent')"
   ]
  },
  {
   "cell_type": "code",
   "execution_count": 32,
   "id": "0e3feaca",
   "metadata": {},
   "outputs": [],
   "source": [
    "parsed_dates = pd.to_datetime(cdc['case_month'])"
   ]
  },
  {
   "cell_type": "code",
   "execution_count": 59,
   "id": "8b8a52e2",
   "metadata": {},
   "outputs": [
    {
     "data": {
      "text/plain": [
       "4503277"
      ]
     },
     "execution_count": 59,
     "metadata": {},
     "output_type": "execute_result"
    }
   ],
   "source": [
    "in2020 = cdc[parsed_dates.dt.year == 2020]\n",
    "\n",
    "plotting = len(cdc[(parsed_dates.dt.month == 1) & (parsed_dates.dt.year == 2021)])\n",
    "plotting"
   ]
  },
  {
   "cell_type": "code",
   "execution_count": 63,
   "id": "771fd678",
   "metadata": {},
   "outputs": [
    {
     "data": {
      "text/plain": [
       "<AxesSubplot:xlabel='case_month', ylabel='Percent'>"
      ]
     },
     "execution_count": 63,
     "metadata": {},
     "output_type": "execute_result"
    },
    {
     "data": {
      "image/png": "[encoded data removed]",
      "text/plain": [
       "<Figure size 432x288 with 1 Axes>"
      ]
     },
     "metadata": {
      "needs_background": "light"
     },
     "output_type": "display_data"
    }
   ],
   "source": [
    "cdc_2020 = cdc.case_month[cdc.case_month.dt.year == 2020]\n",
    "sns.histplot(cdc_2020.dt.month, stat='percent', bins=12)"
   ]
  },
  {
   "cell_type": "code",
   "execution_count": null,
   "id": "5570b6ea",
   "metadata": {},
   "outputs": [],
   "source": [
    "sns.histplot(cdc['case_month'][parsed_dates.dt.year ])"
   ]
  },
  {
   "cell_type": "code",
   "execution_count": 35,
   "id": "cf524ccf",
   "metadata": {
    "scrolled": true
   },
   "outputs": [
    {
     "data": {
      "text/plain": [
       "CA    5131301\n",
       "NY    2851669\n",
       "FL    2661985\n",
       "IL    1938104\n",
       "PA    1768480\n",
       "OH    1745546\n",
       "NC    1561915\n",
       "GA    1373441\n",
       "NJ    1319647\n",
       "TN    1316943\n",
       "AZ    1305892\n",
       "IN    1155416\n",
       "VA     975052\n",
       "MA     959702\n",
       "MN     952279\n",
       "SC     939063\n",
       "MO     932516\n",
       "MI     919424\n",
       "WI     860186\n",
       "CO     842988\n",
       "AL     835773\n",
       "WA     788451\n",
       "OK     666520\n",
       "MD     662613\n",
       "UT     604500\n",
       "KY     548437\n",
       "IA     503379\n",
       "KS     484988\n",
       "NV     434552\n",
       "OR     400042\n",
       "CT     389234\n",
       "AR     377593\n",
       "NM     326798\n",
       "ID     310164\n",
       "NE     246682\n",
       "MT     193964\n",
       "SD     184233\n",
       "ND     166086\n",
       "TX     155025\n",
       "DE     152960\n",
       "RI     151853\n",
       "AK     146241\n",
       "ME     120609\n",
       "WY     112563\n",
       "NH      95282\n",
       "HI      68704\n",
       "DC      67112\n",
       "MS      55394\n",
       "VT      49464\n",
       "PR      44856\n",
       "LA      20136\n",
       "GU      17619\n",
       "WV      10075\n",
       "VI       6883\n",
       "Name: res_state, dtype: int64"
      ]
     },
     "execution_count": 35,
     "metadata": {},
     "output_type": "execute_result"
    }
   ],
   "source": [
    "state"
   ]
  },
  {
   "cell_type": "code",
   "execution_count": 6,
   "id": "a1958151",
   "metadata": {
    "scrolled": true
   },
   "outputs": [
    {
     "name": "stdout",
     "output_type": "stream",
     "text": [
      "[VocabularyListCategoricalColumn(key='case_month', vocabulary_list=('2021-01', '2020-04', '2020-08', '2021-09', '2020-09', '2020-11', '2021-08', '2020-10', '2021-04', '2020-05', '2021-12', '2021-03', '2021-11', '2021-10', '2020-07', '2020-12', '2021-06', '2021-07', '2021-02', '2020-06', '2020-03', '2021-05'), dtype=tf.string, default_value=-1, num_oov_buckets=0), VocabularyListCategoricalColumn(key='county_fips_code', vocabulary_list=('32003', '19193', '20037', '39081', '20045', '20057', '39113', '19155', '39107', '20175', '49005', '49039', '21067', '20113', '49047', '19183', '32007', '39165', '39147', '39061', '19187', '39077', '20015', '20161', '20103', '19181', '39155', '39173', '39069', '21035', '39039', '21195', '19149', '39079', '39097', '39131', '39023', '21199', '39141', '21231', '19127', '39045', '39041', '39175', '39001', '39033', '20009', '20149', '21217', '21019', '21151', '21193', '39161', '39031', '32031', '49041', '21013', '49011', '21107', '39151', '20173', '39095', '39123', '21179', '39051', '20121', '20111', '21113', '21073', '21235', '39005', '21227', '39053', '39099', '39057', '39105', '39089', '19027', '20079', '21177', '39139', '50025', '39055', '19013', '19113', '21093', '39143', '39009', '49051', '39133', '39087', '39035', '32023', '21029', '20055', '39059', '39101', '19103', '16005', '39137', '19105', '39129', '39049', '39017', '39021', '19123', '39119', '20125', '39103', '39085', '21157', '39167', '39091', '39013', '49043', '8031', '39047', '16011', '49057', '20191', '39149', '32019', '20209', '19125', '39065', '39169', '19011', '21133', '19099', '39011', '20051', '39043', '21005', '20155', '19179', '16067', '39117', '21239', '39135', '39003', '20169', '49053', '19057', '16069', '16053', '8117', '39171', '16013', '16051', '20091', '21049', '21043', '39027', '39019', '19049', '21021', '19163', '39063', '49003', '19167', '50011', '39029', '21085', '21083', '39075', '50007', '19139', '21141', '16019', '21121', '39157', '39145', '19153', '22071', '39159', '39073', '39007', '39127', '39109', '21111', '20059', '39025', '39093', '20177', '39153', '21137', '19015', '49021', '19111', '21209', '8087', '32001', '2020', '19045', '49049', '19169', '49035', '21163', '50021', '39083', '39037', '21167', '21003', '19061', '21185', '19033', '19017', '21071', '16075', '50005', '16057', '50003', '50027', '39071', '50023', '8059', '32510', '8014', '21145', '21173', '21125', '20035', '16031', '21211', '16083', '16027', '21009', '27041', '20061', '21095', '36115', '21059', '16065', '49045', '8123', '8013', '16001', '8041', '12083', '8035', '8101', '8069', '8005', '12099', '37119'), dtype=tf.string, default_value=-1, num_oov_buckets=0), VocabularyListCategoricalColumn(key='state_fips_code', vocabulary_list=('32', '19', '20', '39', '49', '21', '50', '16', '8', '22', '2', '27', '36', '12', '37'), dtype=tf.string, default_value=-1, num_oov_buckets=0), VocabularyListCategoricalColumn(key='res_state', vocabulary_list=('NV', 'IA', 'KS', 'OH', 'UT', 'KY', 'VT', 'ID', 'CO', 'LA', 'AK', 'MN', 'NY', 'FL', 'NC'), dtype=tf.string, default_value=-1, num_oov_buckets=0), VocabularyListCategoricalColumn(key='res_county', vocabulary_list=('CLARK', 'WOODBURY', 'CRAWFORD', 'JEFFERSON', 'DOUGLAS', 'FORD', 'MONTGOMERY', 'POTTAWATTAMIE', 'MERCER', 'SEWARD', 'CACHE', 'SANPETE', 'FAYETTE', 'MCPHERSON', 'UINTAH', 'WASHINGTON', 'ELKO', 'WARREN', 'SENECA', 'HAMILTON', 'WEBSTER', 'HURON', 'BUTLER', 'RILEY', 'LEAVENWORTH', 'TRUMBULL', 'WOOD', 'HENRY', 'CALLOWAY', 'DEFIANCE', 'PIKE', 'PLYMOUTH', 'JACKSON', 'MADISON', 'PULASKI', 'ROSS', 'WAYNE', 'MARSHALL', 'FAIRFIELD', 'DELAWARE', 'WYANDOT', 'ADAMS', 'BARTON', 'POTTAWATOMIE', 'TAYLOR', 'BOYD', 'PERRY', 'VAN WERT', 'COSHOCTON', 'WASHOE', 'SEVIER', 'BELL', 'DAVIS', 'HOPKINS', 'STARK', 'SEDGWICK', 'LUCAS', 'OTTAWA', 'NELSON', 'FULTON', 'MIAMI', 'LYON', 'JESSAMINE', 'FRANKLIN', 'WHITLEY', 'ASHLAND', 'GALLIA', 'MAHONING', 'GREENE', 'MEIGS', 'LICKING', 'CARROLL', 'HARVEY', 'MUHLENBERG', 'RICHLAND', 'WINDHAM', 'GEAUGA', 'BLACK HAWK', 'LINN', 'HARDIN', 'SANDUSKY', 'ATHENS', 'WASATCH', 'PORTAGE', 'LAWRENCE', 'CUYAHOGA', 'NYE', 'BULLITT', 'FINNEY', 'GUERNSEY', 'MARION', 'JOHNSON', 'BANNOCK', 'PUTNAM', 'JONES', 'PICKAWAY', 'CHAMPAIGN', 'MAHASKA', 'MUSKINGUM', 'MEDINA', 'LAKE', 'LOGAN', 'BELMONT', 'SUMMIT', 'DENVER', 'BINGHAM', 'WEBER', 'SUMNER', 'SHELBY', 'WYANDOTTE', 'BENTON', 'LETCHER', 'JASPER', 'AUGLAIZE', 'ELLIS', 'ERIE', 'ANDERSON', 'RENO', 'WAPELLO', 'MINIDOKA', 'MORROW', 'WOODFORD', 'PREBLE', 'ALLEN', 'SALINE', 'DES MOINES', 'NEZ PERCE', 'JEROME', 'WILLIAMS', 'BLAINE', 'CARTER', 'CLINTON', 'DALLAS', 'BOYLE', 'SCOTT', 'HANCOCK', 'BOX ELDER', 'SIOUX', 'COLUMBIANA', 'GRAYSON', 'GRAVES', 'HOLMES', 'CHITTENDEN', 'MUSCATINE', 'BONNEVILLE', 'KNOX', 'TUSCARAWAS', 'SCIOTO', 'POLK', 'ORLEANS', 'UNION', 'HOCKING', 'ASHTABULA', 'CLERMONT', 'LORAIN', 'SHAWNEE', 'LINCOLN', 'BOONE', 'IRON', 'LEE', 'MORGAN', 'CHURCHILL', 'ANCHORAGE', 'UTAH', 'STORY', 'SALT LAKE', 'MEADE', 'RUTLAND', 'DARKE', 'DUBUQUE', 'OLDHAM', 'CERRO GORDO', 'BREMER', 'FLOYD', 'PAYETTE', 'CALEDONIA', 'LATAH', 'BENNINGTON', 'WINDSOR', 'HIGHLAND', 'CARSON CITY', 'BROOMFIELD', 'MCCRACKEN', 'LAUREL', 'COWLEY', 'CASSIA', 'TWIN FALLS', 'CANYON', 'BARREN', 'GEARY', 'HARLAN', 'DAVIESS', 'TOOELE', 'WELD', 'BOULDER', 'ADA', 'EL PASO', 'PUEBLO', 'LARIMER', 'ARAPAHOE', 'PALM BEACH', 'MECKLENBURG'), dtype=tf.string, default_value=-1, num_oov_buckets=0), VocabularyListCategoricalColumn(key='sex', vocabulary_list=('Male', 'Female'), dtype=tf.string, default_value=-1, num_oov_buckets=0), VocabularyListCategoricalColumn(key='race', vocabulary_list=('Black', 'White', 'Asian', 'Multiple/Other', 'Native Hawaiian/Other Pacific Islander', 'American Indian/Alaska Native'), dtype=tf.string, default_value=-1, num_oov_buckets=0), VocabularyListCategoricalColumn(key='age_group', vocabulary_list=('18 to 49 years', '50 to 64 years', '65+ years', '0 - 17 years'), dtype=tf.string, default_value=-1, num_oov_buckets=0), VocabularyListCategoricalColumn(key='ethnicity', vocabulary_list=('Non-Hispanic/Latino', 'Hispanic/Latino'), dtype=tf.string, default_value=-1, num_oov_buckets=0), VocabularyListCategoricalColumn(key='process', vocabulary_list=('Multiple', 'Clinical evaluation', 'Contact tracing of case patient', 'Laboratory reported', 'Routine surveillance', 'Other', 'Routine physical examination', 'Provider reported', 'Other detection method (specify)'), dtype=tf.string, default_value=-1, num_oov_buckets=0), VocabularyListCategoricalColumn(key='current_status', vocabulary_list=('Laboratory-confirmed case', 'Probable Case'), dtype=tf.string, default_value=-1, num_oov_buckets=0), VocabularyListCategoricalColumn(key='symptom_status', vocabulary_list=('Symptomatic',), dtype=tf.string, default_value=-1, num_oov_buckets=0), VocabularyListCategoricalColumn(key='hosp_yn', vocabulary_list=('No', 'Yes'), dtype=tf.string, default_value=-1, num_oov_buckets=0), VocabularyListCategoricalColumn(key='icu_yn', vocabulary_list=('No', 'Yes'), dtype=tf.string, default_value=-1, num_oov_buckets=0), VocabularyListCategoricalColumn(key='underlying_conditions_yn', vocabulary_list=('Yes', 'No'), dtype=tf.string, default_value=-1, num_oov_buckets=0), VocabularyListCategoricalColumn(key='exposure_yn', vocabulary_list=('Yes',), dtype=tf.string, default_value=-1, num_oov_buckets=0), NumericColumn(key='case_positive_specimen_interval', shape=(1,), default_value=None, dtype=tf.float32, normalizer_fn=None), NumericColumn(key='case_onset_interval', shape=(1,), default_value=None, dtype=tf.float32, normalizer_fn=None)]\n"
     ]
    }
   ],
   "source": [
    "CATEGORICAL_COLUMNS = ['case_month','county_fips_code','state_fips_code','res_state', 'res_county','sex', 'race'\n",
    "                      , 'age_group','ethnicity', 'process', 'current_status', 'symptom_status', 'hosp_yn', 'icu_yn', 'underlying_conditions_yn',\n",
    "                      'exposure_yn']\n",
    "NUMERICAL_COLUMNS = ['case_positive_specimen_interval','case_onset_interval']\n",
    "\n",
    "\n",
    "feature_columns = []\n",
    "\n",
    "for feature_name in CATEGORICAL_COLUMNS:\n",
    "    vocabulary = train[feature_name].unique()\n",
    "    feature_columns.append(tf.feature_column.categorical_column_with_vocabulary_list(feature_name, vocabulary))\n",
    "    \n",
    "for feature_name in NUMERICAL_COLUMNS:\n",
    "    feature_columns.append(tf.feature_column.numeric_column(feature_name, dtype=tf.float32))\n",
    "print(feature_columns)"
   ]
  },
  {
   "cell_type": "code",
   "execution_count": 42,
   "id": "4bb93b05",
   "metadata": {
    "scrolled": true
   },
   "outputs": [
    {
     "name": "stdout",
     "output_type": "stream",
     "text": [
      "<class 'pandas.core.frame.DataFrame'>\n",
      "Int64Index: 75000 entries, 1 to 75000\n",
      "Data columns (total 18 columns):\n",
      " #   Column                           Non-Null Count  Dtype \n",
      "---  ------                           --------------  ----- \n",
      " 0   case_month                       75000 non-null  object\n",
      " 1   res_state                        75000 non-null  object\n",
      " 2   state_fips_code                  75000 non-null  object\n",
      " 3   res_county                       75000 non-null  object\n",
      " 4   county_fips_code                 75000 non-null  object\n",
      " 5   age_group                        75000 non-null  object\n",
      " 6   sex                              75000 non-null  object\n",
      " 7   race                             75000 non-null  object\n",
      " 8   ethnicity                        75000 non-null  object\n",
      " 9   case_positive_specimen_interval  75000 non-null  object\n",
      " 10  case_onset_interval              75000 non-null  object\n",
      " 11  process                          75000 non-null  object\n",
      " 12  exposure_yn                      75000 non-null  object\n",
      " 13  current_status                   75000 non-null  object\n",
      " 14  symptom_status                   75000 non-null  object\n",
      " 15  hosp_yn                          75000 non-null  object\n",
      " 16  icu_yn                           75000 non-null  object\n",
      " 17  underlying_conditions_yn         75000 non-null  object\n",
      "dtypes: object(18)\n",
      "memory usage: 10.9+ MB\n"
     ]
    }
   ],
   "source": [
    "train.info()"
   ]
  },
  {
   "cell_type": "code",
   "execution_count": null,
   "id": "8e1a9bbd",
   "metadata": {},
   "outputs": [],
   "source": [
    "tf.feature_column."
   ]
  },
  {
   "cell_type": "code",
   "execution_count": 47,
   "id": "92e11cc5",
   "metadata": {},
   "outputs": [
    {
     "data": {
      "text/plain": [
       "array(['34.0', '0.0', '4.0', '1.0', '14.0', '12.0', '3.0', '13.0', '16.0',\n",
       "       '15.0', '18.0', '11.0', '6.0', '2.0', '7.0', '8.0', '33.0', '35.0',\n",
       "       '9.0', '10.0', '5.0', '27.0', '43.0', '21.0', '20.0', '40.0',\n",
       "       '32.0', '38.0', '36.0', '30.0', '70.0', '44.0', '19.0', '46.0',\n",
       "       '17.0', '28.0', '60.0', '72.0', '42.0', '23.0', '24.0', '47.0',\n",
       "       '26.0', '37.0', '59.0', '22.0', '73.0', '29.0', '49.0', '25.0',\n",
       "       '66.0', '57.0', '58.0', '75.0', '31.0', '71.0', '51.0', '39.0',\n",
       "       '48.0', '54.0', 0.0, 4.0, 3.0, 2.0, 31.0, 1.0, 27.0, 14.0, 16.0,\n",
       "       5.0, 12.0, 8.0, 10.0, 6.0, 7.0, 17.0, 15.0, 19.0, 18.0, 21.0, 54.0,\n",
       "       35.0, 24.0, 23.0, 22.0, 26.0, 11.0, 74.0, 13.0, 9.0, 37.0, 20.0,\n",
       "       36.0, 28.0, 32.0, 64.0, 39.0, 33.0], dtype=object)"
      ]
     },
     "execution_count": 47,
     "metadata": {},
     "output_type": "execute_result"
    }
   ],
   "source": [
    "train['case_onset_interval'].unique()"
   ]
  },
  {
   "cell_type": "code",
   "execution_count": 19,
   "id": "e3d075b9",
   "metadata": {},
   "outputs": [
    {
     "name": "stdout",
     "output_type": "stream",
     "text": [
      "<class 'pandas.core.frame.DataFrame'>\n",
      "RangeIndex: 75000 entries, 0 to 74999\n",
      "Data columns (total 18 columns):\n",
      " #   Column                           Non-Null Count  Dtype \n",
      "---  ------                           --------------  ----- \n",
      " 0   case_month                       75000 non-null  object\n",
      " 1   res_state                        75000 non-null  object\n",
      " 2   state_fips_code                  75000 non-null  object\n",
      " 3   res_county                       75000 non-null  object\n",
      " 4   county_fips_code                 75000 non-null  object\n",
      " 5   age_group                        75000 non-null  object\n",
      " 6   sex                              75000 non-null  object\n",
      " 7   race                             75000 non-null  object\n",
      " 8   ethnicity                        75000 non-null  object\n",
      " 9   case_positive_specimen_interval  75000 non-null  int64 \n",
      " 10  case_onset_interval              75000 non-null  int64 \n",
      " 11  process                          75000 non-null  object\n",
      " 12  exposure_yn                      75000 non-null  object\n",
      " 13  current_status                   75000 non-null  object\n",
      " 14  symptom_status                   75000 non-null  object\n",
      " 15  hosp_yn                          75000 non-null  object\n",
      " 16  icu_yn                           75000 non-null  object\n",
      " 17  underlying_conditions_yn         75000 non-null  object\n",
      "dtypes: int64(2), object(16)\n",
      "memory usage: 10.3+ MB\n"
     ]
    }
   ],
   "source": [
    "train.info()"
   ]
  },
  {
   "cell_type": "code",
   "execution_count": 7,
   "id": "86b4d884",
   "metadata": {
    "scrolled": false
   },
   "outputs": [
    {
     "name": "stdout",
     "output_type": "stream",
     "text": [
      "{'accuracy': 0.975816, 'accuracy_baseline': 0.97513956, 'auc': 0.93771726, 'auc_precision_recall': 0.36853826, 'average_loss': 0.07126899, 'label/mean': 0.024860477, 'loss': 0.07074658, 'precision': 0.55, 'prediction/mean': 0.017604591, 'recall': 0.14965986, 'global_step': 1850}\n"
     ]
    }
   ],
   "source": [
    "def make_input_fn(data_df, label_df, num_epochs=50, shuffle=True, batch_size=2048):\n",
    "    def input_function(): # inner function, this will be returned\n",
    "        ds = tf.data.Dataset.from_tensor_slices((dict(data_df), label_df)) # create tf.data.Dataset object with data and its labels\n",
    "        if shuffle:\n",
    "            ds = ds.shuffle(1000) # randomize order of data\n",
    "        ds = ds.batch(batch_size).repeat(num_epochs) # split dataset into batches of 32 and repeat process for no. of epochs\n",
    "        return ds\n",
    "    return input_function # return a function object for use\n",
    "\n",
    "train_input_fn = make_input_fn(train, y_train) # here we will call the input_function that was returned to us to get a dataset object we can fit into the model\n",
    "eval_input_fn = make_input_fn(test, y_test, num_epochs=1, shuffle=False)\n",
    "\n",
    "\n",
    "linear_est = tf.estimator.LinearClassifier(feature_columns=feature_columns)\n",
    "linear_est.train(train_input_fn) # train\n",
    "result = linear_est.evaluate(eval_input_fn) # get model metrics/stats by testing on testing data\n",
    "clear_output()\n",
    "print(result) # result variable is a dict of stats about our model"
   ]
  },
  {
   "cell_type": "code",
   "execution_count": 17,
   "id": "671fbd91",
   "metadata": {},
   "outputs": [
    {
     "name": "stdout",
     "output_type": "stream",
     "text": [
      "{'logits': array([-6.618894], dtype=float32), 'logistic': array([0.00133313], dtype=float32), 'probabilities': array([0.9986669 , 0.00133313], dtype=float32), 'class_ids': array([0]), 'classes': array([b'0'], dtype=object), 'all_class_ids': array([0, 1], dtype=int32), 'all_classes': array([b'0', b'1'], dtype=object)}\n",
      "0\n"
     ]
    }
   ],
   "source": [
    "result = list(linear_est.predict(eval_input_fn)) # <-- this is a generator object \n",
    "clear_output()\n",
    "print(result[3500])\n",
    "print(y_test.loc[3500 + 75000])"
   ]
  },
  {
   "cell_type": "code",
   "execution_count": 26,
   "id": "5a9425a3",
   "metadata": {},
   "outputs": [
    {
     "data": {
      "text/plain": [
       "case_month                          object\n",
       "res_state                           object\n",
       "state_fips_code                     object\n",
       "res_county                          object\n",
       "county_fips_code                    object\n",
       "age_group                           object\n",
       "sex                                 object\n",
       "race                                object\n",
       "ethnicity                           object\n",
       "case_positive_specimen_interval    float64\n",
       "case_onset_interval                float64\n",
       "process                             object\n",
       "exposure_yn                         object\n",
       "current_status                      object\n",
       "symptom_status                      object\n",
       "hosp_yn                             object\n",
       "icu_yn                              object\n",
       "underlying_conditions_yn            object\n",
       "dtype: object"
      ]
     },
     "execution_count": 26,
     "metadata": {},
     "output_type": "execute_result"
    }
   ],
   "source": [
    "train = train.astype({'county_fips_code' : str, 'state_fips_code':str, 'case_positive_specimen_interval':int,\n",
    "                     'case_onset_interval':int},errors='ignore')\n",
    "test = test.astype({'county_fips_code' : str, 'state_fips_code':str, 'case_positive_specimen_interval':int,\n",
    "                   'case_onset_interval':int}, errors='ignore')\n",
    "train.dtypes\n",
    "\n",
    "# test = test.astype({'county_fips_code' : str, 'state_fips_code':str, 'case_positive_specimen_interval':int,\n",
    "#                      'case_onset_interval':int, 'exposure_yn':int, 'hosp_yn':int, 'icu_yn': int, \"underlying_conditions_yn\":int})"
   ]
  },
  {
   "cell_type": "code",
   "execution_count": 70,
   "id": "98b6b87e",
   "metadata": {},
   "outputs": [
    {
     "data": {
      "text/plain": [
       "array([1., 0.])"
      ]
     },
     "execution_count": 70,
     "metadata": {},
     "output_type": "execute_result"
    }
   ],
   "source": [
    "cdc['underlying_conditions_yn'].unique()"
   ]
  },
  {
   "cell_type": "code",
   "execution_count": 66,
   "id": "a5efba63",
   "metadata": {
    "scrolled": true
   },
   "outputs": [
    {
     "data": {
      "text/plain": [
       "Yes    481755\n",
       "No      18245\n",
       "Name: underlying_conditions_yn, dtype: int64"
      ]
     },
     "execution_count": 66,
     "metadata": {},
     "output_type": "execute_result"
    }
   ],
   "source": [
    "train['underlying_conditions_yn'].value_counts()"
   ]
  }
 ],
 "metadata": {
  "kernelspec": {
   "display_name": "Python 3 (ipykernel)",
   "language": "python",
   "name": "python3"
  },
  "language_info": {
   "codemirror_mode": {
    "name": "ipython",
    "version": 3
   },
   "file_extension": ".py",
   "mimetype": "text/x-python",
   "name": "python",
   "nbconvert_exporter": "python",
   "pygments_lexer": "ipython3",
   "version": "3.9.7"
  }
 },
 "nbformat": 4,
 "nbformat_minor": 5
}

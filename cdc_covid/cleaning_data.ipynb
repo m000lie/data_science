{
 "cells": [
  {
   "cell_type": "code",
   "execution_count": 1,
   "id": "c69e8bad",
   "metadata": {},
   "outputs": [],
   "source": [
    "import pandas as pd\n",
    "import tensorflow as tf\n",
    "import numpy as np\n",
    "import seaborn as sns\n",
    "import matplotlib.pyplot as plt\n",
    "from IPython.display import clear_output"
   ]
  },
  {
   "cell_type": "code",
   "execution_count": 2,
   "id": "e7238168",
   "metadata": {},
   "outputs": [
    {
     "name": "stderr",
     "output_type": "stream",
     "text": [
      "/Users/moooolie/Documents/tflow_env/lib/python3.9/site-packages/IPython/core/interactiveshell.py:3444: DtypeWarning: Columns (3,18) have mixed types.Specify dtype option on import or set low_memory=False.\n",
      "  exec(code_obj, self.user_global_ns, self.user_ns)\n"
     ]
    }
   ],
   "source": [
    "cdc = pd.read_csv(\"/Users/moooolie/Desktop/COVID-19_Case_Surveillance_Public_Use_Data_with_Geography.csv\")"
   ]
  },
  {
   "cell_type": "code",
   "execution_count": 3,
   "id": "540c71f4",
   "metadata": {},
   "outputs": [],
   "source": [
    "cdc.dropna(inplace=True) # drops null values"
   ]
  },
  {
   "cell_type": "code",
   "execution_count": 6,
   "id": "11eaf9a4",
   "metadata": {},
   "outputs": [],
   "source": [
    "for i in cdc: # drops missing/unknown data for all columns\n",
    "    cdc.drop(cdc[cdc[i] == \"Missing\"].index,inplace=True) # drops missing death values\n",
    "    cdc.drop(cdc[cdc[i] == \"Unknown\"].index,inplace=True) # drops unknown death values\n",
    "cdc.reset_index(inplace=True)\n",
    "cdc.pop('index')\n",
    "clear_output()"
   ]
  },
  {
   "cell_type": "code",
   "execution_count": 7,
   "id": "80ac04bf",
   "metadata": {},
   "outputs": [],
   "source": [
    "cdc['death_yn'].replace(to_replace=['No', 'Yes'], value=[0,1], inplace=True) # encode death_yn column values"
   ]
  },
  {
   "cell_type": "code",
   "execution_count": 10,
   "id": "fc725930",
   "metadata": {},
   "outputs": [
    {
     "data": {
      "text/plain": [
       "array([0, 1])"
      ]
     },
     "execution_count": 10,
     "metadata": {},
     "output_type": "execute_result"
    }
   ],
   "source": [
    "cdc['death_yn'].unique()"
   ]
  },
  {
   "cell_type": "code",
   "execution_count": 8,
   "id": "44709bb1",
   "metadata": {},
   "outputs": [
    {
     "name": "stdout",
     "output_type": "stream",
     "text": [
      "<class 'pandas.core.frame.DataFrame'>\n",
      "RangeIndex: 80915 entries, 0 to 80914\n",
      "Data columns (total 19 columns):\n",
      " #   Column                           Non-Null Count  Dtype  \n",
      "---  ------                           --------------  -----  \n",
      " 0   case_month                       80915 non-null  object \n",
      " 1   res_state                        80915 non-null  object \n",
      " 2   state_fips_code                  80915 non-null  float64\n",
      " 3   res_county                       80915 non-null  object \n",
      " 4   county_fips_code                 80915 non-null  float64\n",
      " 5   age_group                        80915 non-null  object \n",
      " 6   sex                              80915 non-null  object \n",
      " 7   race                             80915 non-null  object \n",
      " 8   ethnicity                        80915 non-null  object \n",
      " 9   case_positive_specimen_interval  80915 non-null  float64\n",
      " 10  case_onset_interval              80915 non-null  float64\n",
      " 11  process                          80915 non-null  object \n",
      " 12  exposure_yn                      80915 non-null  object \n",
      " 13  current_status                   80915 non-null  object \n",
      " 14  symptom_status                   80915 non-null  object \n",
      " 15  hosp_yn                          80915 non-null  object \n",
      " 16  icu_yn                           80915 non-null  object \n",
      " 17  death_yn                         80915 non-null  int64  \n",
      " 18  underlying_conditions_yn         80915 non-null  object \n",
      "dtypes: float64(4), int64(1), object(14)\n",
      "memory usage: 11.7+ MB\n"
     ]
    }
   ],
   "source": [
    "cdc.info()"
   ]
  },
  {
   "cell_type": "code",
   "execution_count": 9,
   "id": "d1b4e199",
   "metadata": {
    "scrolled": true
   },
   "outputs": [
    {
     "data": {
      "text/html": [
       "<div>\n",
       "<style scoped>\n",
       "    .dataframe tbody tr th:only-of-type {\n",
       "        vertical-align: middle;\n",
       "    }\n",
       "\n",
       "    .dataframe tbody tr th {\n",
       "        vertical-align: top;\n",
       "    }\n",
       "\n",
       "    .dataframe thead th {\n",
       "        text-align: right;\n",
       "    }\n",
       "</style>\n",
       "<table border=\"1\" class=\"dataframe\">\n",
       "  <thead>\n",
       "    <tr style=\"text-align: right;\">\n",
       "      <th></th>\n",
       "      <th>case_month</th>\n",
       "      <th>res_state</th>\n",
       "      <th>state_fips_code</th>\n",
       "      <th>res_county</th>\n",
       "      <th>county_fips_code</th>\n",
       "      <th>age_group</th>\n",
       "      <th>sex</th>\n",
       "      <th>race</th>\n",
       "      <th>ethnicity</th>\n",
       "      <th>case_positive_specimen_interval</th>\n",
       "      <th>case_onset_interval</th>\n",
       "      <th>process</th>\n",
       "      <th>exposure_yn</th>\n",
       "      <th>current_status</th>\n",
       "      <th>symptom_status</th>\n",
       "      <th>hosp_yn</th>\n",
       "      <th>icu_yn</th>\n",
       "      <th>death_yn</th>\n",
       "      <th>underlying_conditions_yn</th>\n",
       "    </tr>\n",
       "  </thead>\n",
       "  <tbody>\n",
       "    <tr>\n",
       "      <th>0</th>\n",
       "      <td>2020-11</td>\n",
       "      <td>OH</td>\n",
       "      <td>39.0</td>\n",
       "      <td>PREBLE</td>\n",
       "      <td>39135.0</td>\n",
       "      <td>18 to 49 years</td>\n",
       "      <td>Male</td>\n",
       "      <td>White</td>\n",
       "      <td>Non-Hispanic/Latino</td>\n",
       "      <td>-2.0</td>\n",
       "      <td>34.0</td>\n",
       "      <td>Clinical evaluation</td>\n",
       "      <td>Yes</td>\n",
       "      <td>Laboratory-confirmed case</td>\n",
       "      <td>Symptomatic</td>\n",
       "      <td>No</td>\n",
       "      <td>No</td>\n",
       "      <td>0</td>\n",
       "      <td>Yes</td>\n",
       "    </tr>\n",
       "    <tr>\n",
       "      <th>1</th>\n",
       "      <td>2020-08</td>\n",
       "      <td>KS</td>\n",
       "      <td>20.0</td>\n",
       "      <td>CRAWFORD</td>\n",
       "      <td>20037.0</td>\n",
       "      <td>18 to 49 years</td>\n",
       "      <td>Male</td>\n",
       "      <td>White</td>\n",
       "      <td>Non-Hispanic/Latino</td>\n",
       "      <td>0.0</td>\n",
       "      <td>0.0</td>\n",
       "      <td>Laboratory reported</td>\n",
       "      <td>Yes</td>\n",
       "      <td>Laboratory-confirmed case</td>\n",
       "      <td>Symptomatic</td>\n",
       "      <td>No</td>\n",
       "      <td>No</td>\n",
       "      <td>0</td>\n",
       "      <td>No</td>\n",
       "    </tr>\n",
       "    <tr>\n",
       "      <th>2</th>\n",
       "      <td>2021-01</td>\n",
       "      <td>NV</td>\n",
       "      <td>32.0</td>\n",
       "      <td>CLARK</td>\n",
       "      <td>32003.0</td>\n",
       "      <td>18 to 49 years</td>\n",
       "      <td>Male</td>\n",
       "      <td>Black</td>\n",
       "      <td>Non-Hispanic/Latino</td>\n",
       "      <td>0.0</td>\n",
       "      <td>0.0</td>\n",
       "      <td>Multiple</td>\n",
       "      <td>Yes</td>\n",
       "      <td>Laboratory-confirmed case</td>\n",
       "      <td>Symptomatic</td>\n",
       "      <td>No</td>\n",
       "      <td>No</td>\n",
       "      <td>0</td>\n",
       "      <td>Yes</td>\n",
       "    </tr>\n",
       "    <tr>\n",
       "      <th>3</th>\n",
       "      <td>2020-04</td>\n",
       "      <td>IA</td>\n",
       "      <td>19.0</td>\n",
       "      <td>WOODBURY</td>\n",
       "      <td>19193.0</td>\n",
       "      <td>50 to 64 years</td>\n",
       "      <td>Female</td>\n",
       "      <td>White</td>\n",
       "      <td>Hispanic/Latino</td>\n",
       "      <td>0.0</td>\n",
       "      <td>0.0</td>\n",
       "      <td>Clinical evaluation</td>\n",
       "      <td>Yes</td>\n",
       "      <td>Laboratory-confirmed case</td>\n",
       "      <td>Symptomatic</td>\n",
       "      <td>No</td>\n",
       "      <td>No</td>\n",
       "      <td>0</td>\n",
       "      <td>Yes</td>\n",
       "    </tr>\n",
       "    <tr>\n",
       "      <th>4</th>\n",
       "      <td>2020-08</td>\n",
       "      <td>KS</td>\n",
       "      <td>20.0</td>\n",
       "      <td>CRAWFORD</td>\n",
       "      <td>20037.0</td>\n",
       "      <td>18 to 49 years</td>\n",
       "      <td>Male</td>\n",
       "      <td>White</td>\n",
       "      <td>Non-Hispanic/Latino</td>\n",
       "      <td>0.0</td>\n",
       "      <td>0.0</td>\n",
       "      <td>Clinical evaluation</td>\n",
       "      <td>Yes</td>\n",
       "      <td>Probable Case</td>\n",
       "      <td>Symptomatic</td>\n",
       "      <td>No</td>\n",
       "      <td>No</td>\n",
       "      <td>0</td>\n",
       "      <td>No</td>\n",
       "    </tr>\n",
       "  </tbody>\n",
       "</table>\n",
       "</div>"
      ],
      "text/plain": [
       "  case_month res_state  state_fips_code res_county  county_fips_code  \\\n",
       "0    2020-11        OH             39.0     PREBLE           39135.0   \n",
       "1    2020-08        KS             20.0   CRAWFORD           20037.0   \n",
       "2    2021-01        NV             32.0      CLARK           32003.0   \n",
       "3    2020-04        IA             19.0   WOODBURY           19193.0   \n",
       "4    2020-08        KS             20.0   CRAWFORD           20037.0   \n",
       "\n",
       "        age_group     sex   race            ethnicity  \\\n",
       "0  18 to 49 years    Male  White  Non-Hispanic/Latino   \n",
       "1  18 to 49 years    Male  White  Non-Hispanic/Latino   \n",
       "2  18 to 49 years    Male  Black  Non-Hispanic/Latino   \n",
       "3  50 to 64 years  Female  White      Hispanic/Latino   \n",
       "4  18 to 49 years    Male  White  Non-Hispanic/Latino   \n",
       "\n",
       "   case_positive_specimen_interval  case_onset_interval              process  \\\n",
       "0                             -2.0                 34.0  Clinical evaluation   \n",
       "1                              0.0                  0.0  Laboratory reported   \n",
       "2                              0.0                  0.0             Multiple   \n",
       "3                              0.0                  0.0  Clinical evaluation   \n",
       "4                              0.0                  0.0  Clinical evaluation   \n",
       "\n",
       "  exposure_yn             current_status symptom_status hosp_yn icu_yn  \\\n",
       "0         Yes  Laboratory-confirmed case    Symptomatic      No     No   \n",
       "1         Yes  Laboratory-confirmed case    Symptomatic      No     No   \n",
       "2         Yes  Laboratory-confirmed case    Symptomatic      No     No   \n",
       "3         Yes  Laboratory-confirmed case    Symptomatic      No     No   \n",
       "4         Yes              Probable Case    Symptomatic      No     No   \n",
       "\n",
       "   death_yn underlying_conditions_yn  \n",
       "0         0                      Yes  \n",
       "1         0                       No  \n",
       "2         0                      Yes  \n",
       "3         0                      Yes  \n",
       "4         0                       No  "
      ]
     },
     "execution_count": 9,
     "metadata": {},
     "output_type": "execute_result"
    }
   ],
   "source": [
    "cdc.head()"
   ]
  },
  {
   "cell_type": "code",
   "execution_count": 11,
   "id": "da44aa52",
   "metadata": {},
   "outputs": [],
   "source": [
    "cdc.to_csv('cdcCleaned.csv')"
   ]
  }
 ],
 "metadata": {
  "kernelspec": {
   "display_name": "Python 3 (ipykernel)",
   "language": "python",
   "name": "python3"
  },
  "language_info": {
   "codemirror_mode": {
    "name": "ipython",
    "version": 3
   },
   "file_extension": ".py",
   "mimetype": "text/x-python",
   "name": "python",
   "nbconvert_exporter": "python",
   "pygments_lexer": "ipython3",
   "version": "3.9.7"
  }
 },
 "nbformat": 4,
 "nbformat_minor": 5
}
